{
 "cells": [
  {
   "cell_type": "code",
   "execution_count": 1,
   "id": "9265bbd5-f6e9-43fd-aead-d779f1d31631",
   "metadata": {},
   "outputs": [],
   "source": [
    "import pathlib\n",
    "import datasets\n",
    "import pandas as pd"
   ]
  },
  {
   "cell_type": "code",
   "execution_count": 21,
   "id": "cc47b9d4-b67a-4f26-82de-6e97ddd231f9",
   "metadata": {},
   "outputs": [],
   "source": [
    "split = \"dev\"\n",
    "sgd_templates_path = pathlib.Path(f\"../datasets/sgd_assistant_templates/{split}/t2g2_all.tsv\").resolve()"
   ]
  },
  {
   "cell_type": "code",
   "execution_count": 22,
   "id": "9cede935-a8d6-47ca-87fb-020e7ab21430",
   "metadata": {},
   "outputs": [],
   "source": [
    "templates_df = pd.read_csv(sgd_templates_path, delimiter=\"\\t\", header=None)"
   ]
  },
  {
   "cell_type": "code",
   "execution_count": 23,
   "id": "0354d5c9-bc73-4de0-8bf6-7228029340be",
   "metadata": {},
   "outputs": [],
   "source": [
    "template_ds = datasets.Dataset.from_dict(\n",
    "    dict(\n",
    "        inputs=templates_df[0].tolist(),\n",
    "        labels=templates_df[1].tolist()\n",
    "    )\n",
    ")"
   ]
  },
  {
   "cell_type": "code",
   "execution_count": 25,
   "id": "229103c6-7e3d-4a18-8a75-e683a031a946",
   "metadata": {},
   "outputs": [
    {
     "data": {
      "application/vnd.jupyter.widget-view+json": {
       "model_id": "",
       "version_major": 2,
       "version_minor": 0
      },
      "text/plain": [
       "Saving the dataset (0/1 shards):   0%|          | 0/24363 [00:00<?, ? examples/s]"
      ]
     },
     "metadata": {},
     "output_type": "display_data"
    }
   ],
   "source": [
    "template_ds.save_to_disk(f\"./templates_paraphrase_{split}.dataset\")"
   ]
  },
  {
   "cell_type": "code",
   "execution_count": null,
   "id": "fdc3495b-5b93-4c6c-9753-aa5b46269099",
   "metadata": {},
   "outputs": [],
   "source": []
  }
 ],
 "metadata": {
  "kernelspec": {
   "display_name": "Python 3 (ipykernel)",
   "language": "python",
   "name": "python3"
  },
  "language_info": {
   "codemirror_mode": {
    "name": "ipython",
    "version": 3
   },
   "file_extension": ".py",
   "mimetype": "text/x-python",
   "name": "python",
   "nbconvert_exporter": "python",
   "pygments_lexer": "ipython3",
   "version": "3.9.15"
  }
 },
 "nbformat": 4,
 "nbformat_minor": 5
}
