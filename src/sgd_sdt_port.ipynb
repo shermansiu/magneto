{
 "cells": [
  {
   "cell_type": "code",
   "execution_count": 27,
   "id": "72d6ea1c-1c23-45ee-90af-e123204628c0",
   "metadata": {},
   "outputs": [],
   "source": [
    "import collections\n",
    "import json\n",
    "import logging\n",
    "import typing as tp\n",
    "import pathlib\n",
    "import attrs\n",
    "import cattrs\n",
    "import pandas as pd\n",
    "import tqdm.auto\n",
    "import sdt_prompts\n",
    "import sgd_utils"
   ]
  },
  {
   "cell_type": "code",
   "execution_count": 13,
   "id": "16d88bf8-cd71-444c-bd4b-4df92b832e57",
   "metadata": {},
   "outputs": [],
   "source": [
    "@attrs.define\n",
    "class SGDConversionOptions:\n",
    "    \"\"\"Options for creating Show, Don't Tell data from the SGD dataset.\n",
    "    \n",
    "    Attributes:\n",
    "        sgd_dir (str, optional): Path to SGD data directory\n",
    "        output_path (str, optional): Path for output file.\n",
    "        sgdx_dir (str, optional): If set, create dialogue examples using SGD-X variants from tis path. e.g. /path/to/sgdx/v1/\n",
    "        subdirs (tuple of str): A tuple of dataset subdirectories to process\n",
    "        prompt_format (one of \"separated\"): Format of the prompt for priming.\n",
    "            \"separated\" means a dialogue followed by a separate string of slots.\n",
    "        prompt_indices (tuple of int, optional): Indices of the prompts for each service to be used for generating examples. Specify one or more numeric indices (starting from 0), or `None` to use all prompts for a given service.\n",
    "        target_format (tuple of one of \"all\", \"active\"): Format of the target. \"all\" and \"active\" respectively refer to all and only active slots being present in the target.\n",
    "        add_intents (bool): Whether to add intents.\n",
    "        lowercase (bool): Whether to lowercase the generated example.\n",
    "        mcq_cat_vals (bool): Whether to enumerate categorical values in the form of a multiple choice question in the prompt string.\n",
    "        mcq_intents (bool): Whether to enumerate intents in the form of a multiple choice question in the prompt string. Only use if flag `add_intents` is `True`.\n",
    "        randomize_slots (bool): Whether to randomize slot order of the prompt.\n",
    "        randomize_cat_vals (bool): Whether to randomize order of categorical values in prompt.\n",
    "        randomize_intents (bool): Whether to randomize order of intents in prompt. Only used if flag `add_intents` is `True`.\n",
    "        use_slot_ids (bool): Whether to use numeric slot IDs in place of slot names in the input and output strings.\n",
    "        data_percent (float): If not 0.0, only write this proportion of data and discard the rest of the examples. For data efficiency experiments. Not compatible with `k_shot`.\n",
    "        k_shot (int): If not 0, sample this many examples from each service. For data efficiency experiments. Not compatible with `data_percent`.\n",
    "        use_intent_slot_descs (bool): Whether to add D3ST descriptions to prompt.\n",
    "\n",
    "    \"\"\"\n",
    "    sgd_dir: tp.Optional[str] = None\n",
    "    output_path: tp.Optional[str] = None\n",
    "    sgdx_dir: tp.Optional[str] = None\n",
    "    subdirs: tp.Tuple[str, ...] = (\"train\", \"dev\", \"test\")\n",
    "    prompt_format: tp.Optional[tp.Literal[\"separated\"]] = \"separated\"\n",
    "    prompt_indices: tp.Optional[tp.Tuple[int, ...]] = None\n",
    "    context_format: tp.Literal[\"dialogue\"] = \"dialogue\"\n",
    "    target_format: tp.Tuple[tp.Literal[\"all\", \"active\"], ...] = (\"all\",)\n",
    "    add_intents: bool = False\n",
    "    lowercase: bool = True\n",
    "    mcq_cat_vals: bool = False\n",
    "    mcq_intents: bool = False\n",
    "    randomize_slots: bool = True\n",
    "    randomize_cat_vals: bool = True\n",
    "    randomize_intents: bool = True\n",
    "    use_slot_ids: bool = False\n",
    "    data_percent: float = 0.0\n",
    "    k_shot: int = 0\n",
    "    use_intent_slot_descs: bool = False\n",
    "    \n",
    "    @property\n",
    "    def input_dir(self) -> tp.Optional[str]:\n",
    "        return self.sgd_dir"
   ]
  },
  {
   "cell_type": "code",
   "execution_count": 32,
   "id": "958e3909-dfe3-4fc0-afef-60630964455b",
   "metadata": {},
   "outputs": [],
   "source": [
    "@attrs.define\n",
    "class Example:\n",
    "    \"\"\"Dataclass for single SDT example.\n",
    "\n",
    "    Attributes:\n",
    "        example_str (str): The example string.\n",
    "        services (list of str): The services this example belongs to.\n",
    "\n",
    "    \"\"\"\n",
    "    example_str: str\n",
    "    services: tp.List[str]"
   ]
  },
  {
   "cell_type": "code",
   "execution_count": 15,
   "id": "efcf1399-10eb-4477-b0cf-ad7d1fa03d0d",
   "metadata": {},
   "outputs": [],
   "source": [
    "PATH_TO_DSTC_STUFF = pathlib.Path(\"../datasets/dstc8-schema-guided-dialogue\").resolve()\n",
    "assert PATH_TO_DSTC_STUFF.is_dir()"
   ]
  },
  {
   "cell_type": "code",
   "execution_count": 16,
   "id": "dee2ab38-64d0-466f-a93a-8e0bda62cf2d",
   "metadata": {},
   "outputs": [],
   "source": [
    "config = SGDConversionOptions(\n",
    "    sgd_dir=str(PATH_TO_DSTC_STUFF),\n",
    "    output_path=str(pathlib.Path(\"./sgd_sdt_port_v0.tsv\")),\n",
    "    prompt_indices=0,\n",
    "    mcq_cat_vals=True\n",
    ")"
   ]
  },
  {
   "cell_type": "code",
   "execution_count": 29,
   "id": "01f0c06d-febc-40bc-8e5b-27147d22078d",
   "metadata": {},
   "outputs": [],
   "source": [
    "Prompt = sdt_prompts.Prompt\n",
    "Schemas = sgd_utils.Schemas\n",
    "DialoguesDict = sgd_utils.DialoguesDict\n",
    "RAND_SEED = 123\n",
    "USER_SPEAKER = 'USER'\n",
    "SYSTEM_SPEAKER = 'SYSTEM'\n",
    "USER_TOK = '[user]'\n",
    "SYS_TOK = '[system]'\n",
    "INTENT_SLOT_VALUE_DELIMITER = '='\n",
    "INPUT_TARGET_SEP = '\\t'"
   ]
  },
  {
   "cell_type": "code",
   "execution_count": 30,
   "id": "0a6ab700-1a94-4312-a638-a516c39cc41a",
   "metadata": {},
   "outputs": [],
   "source": [
    "_PROMPTS_MAP = {\n",
    "    'separated': sdt_prompts.SGD_SEPARATED_ANNOTATION_PROMPTS,\n",
    "}"
   ]
  },
  {
   "cell_type": "code",
   "execution_count": 33,
   "id": "cbeade56-117f-4078-9e0f-4274dfe84bc7",
   "metadata": {},
   "outputs": [],
   "source": [
    "def speaker_to_tok(speaker: str) -> str:\n",
    "    if speaker == USER_SPEAKER:\n",
    "        return USER_TOK\n",
    "    elif speaker == SYSTEM_SPEAKER:\n",
    "        return SYS_TOK\n",
    "    raise ValueError(f\"Speaker must be one of {USER_SPEAKER} or {SYSTEM_SPEAKER}. Found {speaker}.\")"
   ]
  },
  {
   "cell_type": "code",
   "execution_count": 34,
   "id": "32c06553-4cb3-4a16-8ffd-18cff3be2386",
   "metadata": {},
   "outputs": [],
   "source": [
    "def generate_utt_str(utterance: str, speaker: str) -> str:\n",
    "    prefix = speaker_to_tok(speaker)\n",
    "    # Occasionally, some examples include newlines in the middle\n",
    "    utterance = utterance.replace(\"\\n\", \" \")\n",
    "\n",
    "    return \" \".join([prefix, utterance])"
   ]
  },
  {
   "cell_type": "code",
   "execution_count": 35,
   "id": "fdf06cfd-fff4-40be-8f5f-c0c7daabda56",
   "metadata": {},
   "outputs": [],
   "source": [
    "def build_example(input_strs: tp.Sequence[str], target_str: str, additional_strs: tp.Sequence[str], services: tp.Sequence[str], lowercase: bool) -> Example:\n",
    "    \"\"\"Builds a single example in TSV format.\"\"\"\n",
    "    example_str = \" \".join(input_strs) + INPUT_TARGET_SEP + target_str\n",
    "    if additional_strs:\n",
    "        example_str += INPUT_TARGET_SEP + INPUT_TARGET_SEP.join(additional_strs)\n",
    "\n",
    "    if lowercase:\n",
    "        example_str = example_str.lower()\n",
    "\n",
    "    return Example(example_str=example_str.strip(), services=list(services))"
   ]
  },
  {
   "cell_type": "code",
   "execution_count": null,
   "id": "16aff764-0773-4f86-adea-80750cd9a4ff",
   "metadata": {},
   "outputs": [],
   "source": [
    "def create_examples_from_dialogue(dialogue: tp.Mapping[str, tp.Any], service_to_prompts: tp.Optional[Dict[str, tp.List[Prompt]]], service_to_schema: tp.Mapping[str, sgd_utils.Schema], options: SGDConversionOptions) -> tp.List[Example]:\n",
    "    \"\"\"Returns example strings created from a dialogue.\n",
    "\n",
    "    Args:\n",
    "        dialogue: A single dialogue containing multiple turns and frames.\n",
    "        service_to_prompts: A map from SGD service to a list of prompts\n",
    "        service_to_schema: A map from SGD service to schema\n",
    "        options: An object containing various options related to example generation.\n",
    "    \"\"\"\n",
    "    utt_strs = []\n",
    "    example_strs= []\n",
    "\n",
    "    for turn_idx, turn in enumerate(dialogue[\"turns\"]):\n",
    "\n",
    "        # Format utterances\n",
    "    utt_strs.append(\n",
    "        generate_utt_str(utterance=turn[\"utterance\"], speaker=turn[\"speaker\"]))\n",
    "    )\n",
    "\n",
    "    # Don't create examples out of system turns for DST\n",
    "    if turn[\"speaker\"] != USER_SPEAKER:\n",
    "        continue\n",
    "\n",
    "    for frame_idx, frame in enuemrate(turn[\"frames\"]):\n",
    "\n",
    "        # Create prompt\n",
    "        prompt_str, ordered_slots, slot_to_cat_val_to_id, intent_to_id = sdt_utils.generate_prompt_str(\n",
    "            keys=[frame[\"service\"]],\n",
    "            key_to_prompts=service_to_prompts,\n",
    "            prompt_indices=options.prompt_indices,\n",
    "            add_intents=options.add_intents,\n",
    "            mcq_cat_vals=options.mcq_cat_vals,\n",
    "            mcq_intents=options.mcq_intents,\n",
    "            randomize_slots=options.randomize_slots,\n",
    "            randomize_cat_vals=options.randomize_cat_vals,\n",
    "            randomize_intents=options.randomize_intents,\n",
    "            use_slot_ids=options.use_slot_ids,\n",
    "            key_to_schema=service_to_schema\n",
    "        )\n",
    "\n",
    "        \n",
    "        "
   ]
  }
 ],
 "metadata": {
  "kernelspec": {
   "display_name": "Python 3 (ipykernel)",
   "language": "python",
   "name": "python3"
  },
  "language_info": {
   "codemirror_mode": {
    "name": "ipython",
    "version": 3
   },
   "file_extension": ".py",
   "mimetype": "text/x-python",
   "name": "python",
   "nbconvert_exporter": "python",
   "pygments_lexer": "ipython3",
   "version": "3.9.15"
  }
 },
 "nbformat": 4,
 "nbformat_minor": 5
}
