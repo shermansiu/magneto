{
 "cells": [
  {
   "cell_type": "code",
   "execution_count": 1,
   "id": "854629cc-554f-4bb7-a699-6a5c02cf7693",
   "metadata": {},
   "outputs": [],
   "source": [
    "import os\n",
    "os.environ[\"CUDA_VISIBLE_DEVICES\"] = \"0\""
   ]
  },
  {
   "cell_type": "code",
   "execution_count": 7,
   "id": "2466222d-a6bc-4be5-901b-c6f11edf0606",
   "metadata": {},
   "outputs": [
    {
     "name": "stdout",
     "output_type": "stream",
     "text": [
      "True\n",
      "1\n",
      "0\n",
      "NVIDIA GeForce RTX 3090\n"
     ]
    }
   ],
   "source": [
    "import torch\n",
    "import math\n",
    "\n",
    "print(torch.cuda.is_available())\n",
    "#True\n",
    "print(torch.cuda.device_count())\n",
    "#1\n",
    "print(torch.cuda.current_device())\n",
    "#0\n",
    "print(torch.cuda.get_device_name(0))\n",
    "#'GeForce GTX 1080'"
   ]
  },
  {
   "cell_type": "code",
   "execution_count": 3,
   "id": "fe891e79-b226-479a-bd65-d57fef060dc8",
   "metadata": {},
   "outputs": [
    {
     "name": "stdout",
     "output_type": "stream",
     "text": [
      "\n",
      "===================================BUG REPORT===================================\n",
      "Welcome to bitsandbytes. For bug reports, please submit your error trace to: https://github.com/TimDettmers/bitsandbytes/issues\n",
      "For effortless bug reporting copy-paste your error into this form: https://docs.google.com/forms/d/e/1FAIpQLScPB8emS3Thkp66nvqwmjTEgxp8Y9ufuWTzFyr9kJ5AoI47dQ/viewform?usp=sf_link\n",
      "================================================================================\n",
      "CUDA SETUP: CUDA runtime path found: /home/sherman/miniconda3/envs/fn_env/lib/libcudart.so\n",
      "CUDA SETUP: Highest compute capability among GPUs detected: 8.6\n",
      "CUDA SETUP: Detected CUDA version 118\n",
      "CUDA SETUP: Loading binary /home/sherman/miniconda3/envs/fn_env/lib/python3.8/site-packages/bitsandbytes/libbitsandbytes_cuda118.so...\n",
      "[2023-07-29 00:15:01,496] [INFO] [real_accelerator.py:133:get_accelerator] Setting ds_accelerator to cuda (auto detect)\n"
     ]
    }
   ],
   "source": [
    "from __future__ import annotations\n",
    "import functools\n",
    "import typing as tp\n",
    "import datasets\n",
    "import transformers\n",
    "from transformers import (\n",
    "    DataCollatorForSeq2Seq,\n",
    "    PreTrainedTokenizer,\n",
    "    Seq2SeqTrainingArguments,\n",
    "    Seq2SeqTrainer,\n",
    ")\n",
    "\n",
    "\n",
    "increment_en = [\n",
    "    {\"input\": \"One\", \"target\": \"Two\"},\n",
    "    {\"input\": \"Three\", \"target\": \"Four\"},\n",
    "    {\"input\": \"Five\", \"target\": \"Six\"},\n",
    "    {\"input\": \"Seven\", \"target\": \"Eight\"},\n",
    "    {\"input\": \"Nine\", \"target\": \"Ten\"},\n",
    "]\n",
    "increment_en = increment_en * 100\n",
    "\n",
    "\n",
    "def lod_to_dol(list_of_dicts: tp.List[tp.Dict[str, tp.Any]]) -> tp.Dict[str, list]:\n",
    "    dict_of_lists = {\n",
    "        key: [dct[key] for dct in list_of_dicts] for key in list_of_dicts[0]\n",
    "    }\n",
    "    return dict_of_lists\n",
    "\n",
    "\n",
    "increment_en = lod_to_dol(increment_en)\n",
    "\n",
    "\n",
    "def preprocess_function_(\n",
    "    examples,\n",
    "    tokenizer: PreTrainedTokenizer,\n",
    "    max_input_length: int,\n",
    "    max_target_length: int,\n",
    "):\n",
    "    inputs = examples[\"input\"]\n",
    "    targets = examples[\"target\"]\n",
    "\n",
    "    model_inputs = tokenizer(inputs, max_length=max_input_length, truncation=True)\n",
    "\n",
    "    # Setup the tokenizer for targets\n",
    "    with tokenizer.as_target_tokenizer():\n",
    "        labels = tokenizer(targets, max_length=max_target_length, truncation=True)\n",
    "\n",
    "    model_inputs[\"labels\"] = labels[\"input_ids\"]\n",
    "    return model_inputs\n",
    "\n",
    "\n",
    "def preprocess_function2_(\n",
    "    examples,\n",
    "    tokenizer: PreTrainedTokenizer,\n",
    "    max_input_length: int,\n",
    "    max_target_length: int,\n",
    "):\n",
    "    inputs = examples[\"inputs\"]\n",
    "    targets = examples[\"labels\"]\n",
    "\n",
    "    model_inputs = tokenizer(inputs, max_length=max_input_length, truncation=True)\n",
    "\n",
    "    # Setup the tokenizer for targets\n",
    "    with tokenizer.as_target_tokenizer():\n",
    "        labels = tokenizer(targets, max_length=max_target_length, truncation=True)\n",
    "\n",
    "    model_inputs[\"labels\"] = labels[\"input_ids\"]\n",
    "    return model_inputs"
   ]
  },
  {
   "cell_type": "code",
   "execution_count": 8,
   "id": "3270ad85-8760-47ed-9037-955998e3e03f",
   "metadata": {},
   "outputs": [
    {
     "name": "stderr",
     "output_type": "stream",
     "text": [
      "/home/sherman/miniconda3/envs/fn_env/lib/python3.8/site-packages/transformers/optimization.py:411: FutureWarning: This implementation of AdamW is deprecated and will be removed in a future version. Use the PyTorch implementation torch.optim.AdamW instead, or set `no_deprecation_warning=True` to disable this warning\n",
      "  warnings.warn(\n",
      "You're using a T5TokenizerFast tokenizer. Please note that with a fast tokenizer, using the `__call__` method is faster than using a method to encode the text followed by a call to the `pad` method to get a padded encoding.\n"
     ]
    },
    {
     "data": {
      "text/html": [
       "\n",
       "    <div>\n",
       "      \n",
       "      <progress value='6091' max='6091' style='width:300px; height:20px; vertical-align: middle;'></progress>\n",
       "      [6091/6091 09:16, Epoch 1/1]\n",
       "    </div>\n",
       "    <table border=\"1\" class=\"dataframe\">\n",
       "  <thead>\n",
       " <tr style=\"text-align: left;\">\n",
       "      <th>Step</th>\n",
       "      <th>Training Loss</th>\n",
       "    </tr>\n",
       "  </thead>\n",
       "  <tbody>\n",
       "    <tr>\n",
       "      <td>1000</td>\n",
       "      <td>1.631700</td>\n",
       "    </tr>\n",
       "    <tr>\n",
       "      <td>2000</td>\n",
       "      <td>1.441600</td>\n",
       "    </tr>\n",
       "    <tr>\n",
       "      <td>3000</td>\n",
       "      <td>1.384800</td>\n",
       "    </tr>\n",
       "    <tr>\n",
       "      <td>4000</td>\n",
       "      <td>1.364500</td>\n",
       "    </tr>\n",
       "    <tr>\n",
       "      <td>5000</td>\n",
       "      <td>1.331600</td>\n",
       "    </tr>\n",
       "    <tr>\n",
       "      <td>6000</td>\n",
       "      <td>1.339500</td>\n",
       "    </tr>\n",
       "  </tbody>\n",
       "</table><p>"
      ],
      "text/plain": [
       "<IPython.core.display.HTML object>"
      ]
     },
     "metadata": {},
     "output_type": "display_data"
    },
    {
     "data": {
      "text/plain": [
       "TrainOutput(global_step=6091, training_loss=1.4135024553448319, metrics={'train_runtime': 556.9771, 'train_samples_per_second': 43.743, 'train_steps_per_second': 10.936, 'total_flos': 331636284807168.0, 'train_loss': 1.4135024553448319, 'epoch': 1.0})"
      ]
     },
     "execution_count": 8,
     "metadata": {},
     "output_type": "execute_result"
    }
   ],
   "source": [
    "tokenizer = transformers.T5TokenizerFast.from_pretrained(\"google/flan-t5-small\")\n",
    "model = transformers.T5ForConditionalGeneration.from_pretrained(\"google/flan-t5-small\")\n",
    "\n",
    "batch_size=4\n",
    "args = Seq2SeqTrainingArguments(\n",
    "    \"script_debug\",\n",
    "    per_device_train_batch_size=batch_size,\n",
    "    per_device_eval_batch_size=batch_size,\n",
    "    fp16=False,\n",
    "    push_to_hub=False,\n",
    "    # sharded_ddp=[\"zero_dp_3\"],\n",
    "    max_steps=math.ceil(24363/batch_size),\n",
    "    logging_steps=1000,\n",
    "    save_steps=5000\n",
    ")\n",
    "\n",
    "data_collator = DataCollatorForSeq2Seq(tokenizer, model=model, padding=True)\n",
    "\n",
    "dataset = datasets.DatasetDict(\n",
    "    {\n",
    "        \"train\": datasets.load_from_disk(\"templates_paraphrase_dev.dataset\"),\n",
    "        \"test\": datasets.load_from_disk(\"templates_paraphrase_dev.dataset\"),\n",
    "    }\n",
    ")\n",
    "\n",
    "preprocess_function2 = functools.partial(\n",
    "    preprocess_function2_,\n",
    "    tokenizer=tokenizer,\n",
    "    max_input_length=512,\n",
    "    max_target_length=512\n",
    ")\n",
    "\n",
    "processed_ds2 = dataset.map(preprocess_function2, batched=True)\n",
    "processed_ds2.set_format(\n",
    "    type=\"torch\", columns=[\"input_ids\", \"attention_mask\", \"labels\"]\n",
    ")\n",
    "\n",
    "trainer = Seq2SeqTrainer(\n",
    "    model,\n",
    "    args,\n",
    "    train_dataset=processed_ds2[\"train\"],\n",
    "    eval_dataset=processed_ds2[\"test\"],\n",
    "    data_collator=data_collator,\n",
    "    tokenizer=tokenizer,\n",
    ")\n",
    "trainer.train()"
   ]
  },
  {
   "cell_type": "code",
   "execution_count": 12,
   "id": "59986b9e-38dd-40d2-876a-fd1d17ec1062",
   "metadata": {},
   "outputs": [
    {
     "data": {
      "text/plain": [
       "tensor([[   0, 2759,    1]], device='cuda:0')"
      ]
     },
     "execution_count": 12,
     "metadata": {},
     "output_type": "execute_result"
    }
   ],
   "source": [
    "model.generate(**(tokenizer(\"One\", return_tensors=\"pt\").to(model.device)))"
   ]
  },
  {
   "cell_type": "code",
   "execution_count": 9,
   "id": "4f7a61c3-7825-4956-840e-7b19247cdf6b",
   "metadata": {},
   "outputs": [],
   "source": [
    "pipe = transformers.pipelines.Text2TextGenerationPipeline(model=model, tokenizer=tokenizer, device=model.device, batch_size=4)"
   ]
  },
  {
   "cell_type": "code",
   "execution_count": 10,
   "id": "ac7f4fd1-337b-43de-9dc4-b63a70ebfd5d",
   "metadata": {},
   "outputs": [
    {
     "data": {
      "text/plain": [
       "[{'generated_text': 'How about Searching for Sugar Man? It has an average rating of 8.2?'}]"
      ]
     },
     "execution_count": 10,
     "metadata": {},
     "output_type": "execute_result"
    }
   ],
   "source": [
    "pipe(\"'SYSTEM | How about Searching for Sugar Man? The movie has an average rating of 8.2.'\")#, do_sample=True, eta_cutoff=3e-4)"
   ]
  },
  {
   "cell_type": "code",
   "execution_count": null,
   "id": "07d0e3f2-a886-4b42-b011-2de40a829e2a",
   "metadata": {},
   "outputs": [],
   "source": []
  }
 ],
 "metadata": {
  "kernelspec": {
   "display_name": "Python 3.8 (fn_env)",
   "language": "python",
   "name": "fn_env"
  },
  "language_info": {
   "codemirror_mode": {
    "name": "ipython",
    "version": 3
   },
   "file_extension": ".py",
   "mimetype": "text/x-python",
   "name": "python",
   "nbconvert_exporter": "python",
   "pygments_lexer": "ipython3",
   "version": "3.8.15"
  }
 },
 "nbformat": 4,
 "nbformat_minor": 5
}
