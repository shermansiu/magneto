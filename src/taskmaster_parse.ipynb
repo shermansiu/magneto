{
 "cells": [
  {
   "cell_type": "code",
   "execution_count": 94,
   "id": "cfc45647-ed7e-414a-9b06-bb9474b4cf60",
   "metadata": {},
   "outputs": [],
   "source": [
    "import attrs\n",
    "import bisect\n",
    "import cattrs\n",
    "import datasets\n",
    "import enum\n",
    "import itertools\n",
    "import json\n",
    "import multiprocessing as mp\n",
    "import numpy as np\n",
    "import pandas as pd\n",
    "import pathlib\n",
    "import random\n",
    "import sklearn.model_selection\n",
    "import transformers\n",
    "import tqdm.auto\n",
    "import typing as tp"
   ]
  },
  {
   "cell_type": "code",
   "execution_count": 2,
   "id": "9ec39f80-df33-4b88-93c8-38ad54ae839f",
   "metadata": {},
   "outputs": [],
   "source": [
    "tm1_path = pathlib.Path(\"../datasets/Taskmaster/TM-1-2019\")"
   ]
  },
  {
   "cell_type": "code",
   "execution_count": 3,
   "id": "65fbc934-8abd-43f3-888f-0d1626b45143",
   "metadata": {},
   "outputs": [],
   "source": [
    "taskmaster_path = tm1_path"
   ]
  },
  {
   "cell_type": "code",
   "execution_count": 4,
   "id": "bd57f451-9122-4c4c-842b-9b0ae05b05db",
   "metadata": {},
   "outputs": [],
   "source": [
    "ontology_path = taskmaster_path.joinpath(\"ontology.json\")\n",
    "sample_path = taskmaster_path.joinpath(\"sample.json\")\n",
    "self_dialogues_path = taskmaster_path.joinpath(\"self-dialogs.json\")\n",
    "woz_dialogues_path = taskmaster_path.joinpath(\"woz-dialogs.json\")"
   ]
  },
  {
   "cell_type": "code",
   "execution_count": 7,
   "id": "071db4dd-aded-4292-aef5-8a4190d83a0f",
   "metadata": {},
   "outputs": [],
   "source": [
    "with sample_path.open() as f:\n",
    "    sample_file = json.load(f)\n",
    "with self_dialogues_path.open() as f:\n",
    "    self_file = json.load(f)\n",
    "with woz_dialogues_path.open() as f:\n",
    "    woz_file = json.load(f)"
   ]
  },
  {
   "cell_type": "code",
   "execution_count": 15,
   "id": "25f4c8e4-57b0-4943-901d-40c91cb43d20",
   "metadata": {
    "tags": []
   },
   "outputs": [],
   "source": [
    "sample_convo = cattrs.structure(sample_file, TaskmasterConvo)\n",
    "self_convos = cattrs.structure(self_file, tp.List[TaskmasterConvo])"
   ]
  },
  {
   "cell_type": "code",
   "execution_count": 16,
   "id": "c2502319-90e7-42a4-a63e-d7a33550b57b",
   "metadata": {},
   "outputs": [],
   "source": [
    "def check_alternating_speaker(convo: TaskmasterConvo) -> bool:\n",
    "    for i, utt in enumerate(convo.utterances):\n",
    "        if i % 2 == 0 and utt.speaker == TaskmasterSpeaker.ASSISTANT or i % 1 and utt.speaker == TaskmasterSpeaker.USER:\n",
    "            return False\n",
    "        return True"
   ]
  },
  {
   "cell_type": "code",
   "execution_count": 17,
   "id": "01697a80-32fb-4f90-b656-82c858f3781c",
   "metadata": {},
   "outputs": [
    {
     "data": {
      "text/plain": [
       "True"
      ]
     },
     "execution_count": 17,
     "metadata": {},
     "output_type": "execute_result"
    }
   ],
   "source": [
    "all(check_alternating_speaker(convo) for convo in self_convos)"
   ]
  },
  {
   "cell_type": "code",
   "execution_count": 18,
   "id": "4d8d2a22-0d87-484d-b0a2-bda0818f3d91",
   "metadata": {},
   "outputs": [
    {
     "data": {
      "text/plain": [
       "False"
      ]
     },
     "execution_count": 18,
     "metadata": {},
     "output_type": "execute_result"
    }
   ],
   "source": [
    "all(check_alternating_speaker(convo) for convo in woz_convos)"
   ]
  },
  {
   "cell_type": "code",
   "execution_count": 53,
   "id": "081f5cac-db7d-4ac7-9e7b-1da87ae0055f",
   "metadata": {
    "collapsed": true,
    "jupyter": {
     "outputs_hidden": true
    },
    "tags": []
   },
   "outputs": [
    {
     "data": {
      "text/plain": [
       "[TaskmasterUtterance(index=0, speaker=<TaskmasterSpeaker.USER: 'USER'>, text=\"Hi, I'm looking to book a table for Korean fod.\"),\n",
       " TaskmasterUtterance(index=1, speaker=<TaskmasterSpeaker.ASSISTANT: 'ASSISTANT'>, text='Ok, what area are you thinking about?'),\n",
       " TaskmasterUtterance(index=2, speaker=<TaskmasterSpeaker.USER: 'USER'>, text='Somewhere in Southern NYC, maybe the East Village?'),\n",
       " TaskmasterUtterance(index=3, speaker=<TaskmasterSpeaker.ASSISTANT: 'ASSISTANT'>, text=\"Ok, great.  There's Thursday Kitchen, it has great reviews.\"),\n",
       " TaskmasterUtterance(index=4, speaker=<TaskmasterSpeaker.USER: 'USER'>, text=\"That's great. So I need a table for tonight at 7 pm for 8 people. We don't want to sit at the bar, but anywhere else is fine.\"),\n",
       " TaskmasterUtterance(index=5, speaker=<TaskmasterSpeaker.ASSISTANT: 'ASSISTANT'>, text=\"They don't have any availability for 7 pm.\"),\n",
       " TaskmasterUtterance(index=6, speaker=<TaskmasterSpeaker.USER: 'USER'>, text='What times are available?'),\n",
       " TaskmasterUtterance(index=7, speaker=<TaskmasterSpeaker.ASSISTANT: 'ASSISTANT'>, text='5 or 8.'),\n",
       " TaskmasterUtterance(index=8, speaker=<TaskmasterSpeaker.USER: 'USER'>, text=\"Yikes, we can't do those times.\"),\n",
       " TaskmasterUtterance(index=9, speaker=<TaskmasterSpeaker.ASSISTANT: 'ASSISTANT'>, text='Ok, do you have a second choice?'),\n",
       " TaskmasterUtterance(index=10, speaker=<TaskmasterSpeaker.USER: 'USER'>, text='Let me check.'),\n",
       " TaskmasterUtterance(index=11, speaker=<TaskmasterSpeaker.ASSISTANT: 'ASSISTANT'>, text='Ok.'),\n",
       " TaskmasterUtterance(index=12, speaker=<TaskmasterSpeaker.USER: 'USER'>, text='Lets try Boka, are they free for 8 people at 7?'),\n",
       " TaskmasterUtterance(index=13, speaker=<TaskmasterSpeaker.ASSISTANT: 'ASSISTANT'>, text='Yes.'),\n",
       " TaskmasterUtterance(index=14, speaker=<TaskmasterSpeaker.USER: 'USER'>, text=\"Great, let's book that.\"),\n",
       " TaskmasterUtterance(index=15, speaker=<TaskmasterSpeaker.ASSISTANT: 'ASSISTANT'>, text='Ok great, are there any other requests?'),\n",
       " TaskmasterUtterance(index=16, speaker=<TaskmasterSpeaker.USER: 'USER'>, text=\"No, that's it, just book.\"),\n",
       " TaskmasterUtterance(index=17, speaker=<TaskmasterSpeaker.ASSISTANT: 'ASSISTANT'>, text='Great, should I use your account you have open with them?'),\n",
       " TaskmasterUtterance(index=18, speaker=<TaskmasterSpeaker.USER: 'USER'>, text='Yes please.'),\n",
       " TaskmasterUtterance(index=19, speaker=<TaskmasterSpeaker.ASSISTANT: 'ASSISTANT'>, text='Great. You will get a confirmation to your phone soon.')]"
      ]
     },
     "execution_count": 53,
     "metadata": {},
     "output_type": "execute_result"
    }
   ],
   "source": [
    "self_convos[0].utterances"
   ]
  },
  {
   "cell_type": "code",
   "execution_count": 11,
   "id": "23ed2983-ac4f-4666-a7f1-1b4e68692925",
   "metadata": {
    "tags": []
   },
   "outputs": [],
   "source": [
    "class TaskmasterSpeaker(enum.Enum):\n",
    "    USER = \"USER\"\n",
    "    ASSISTANT = \"ASSISTANT\"\n",
    "\n",
    "@attrs.define\n",
    "class TaskmasterUtterance:\n",
    "    index: int\n",
    "    speaker: TaskmasterSpeaker\n",
    "    text: str\n",
    "\n",
    "@attrs.define\n",
    "class TaskmasterConvo:\n",
    "    conversation_id: str\n",
    "    instruction_id: str\n",
    "    utterances: tp.List[TaskmasterUtterance]\n",
    "\n",
    "class TaskmasterSpeaker(enum.Enum):\n",
    "    USER = \"USER\"\n",
    "    ASSISTANT = \"ASSISTANT\"\n",
    "\n",
    "    @classmethod\n",
    "    def _missing_(cls, value):\n",
    "        for member in cls:\n",
    "            if member.value.upper() == value.upper():\n",
    "                return member\n",
    "\n",
    "@attrs.define\n",
    "class TaskmasterUtterance:\n",
    "    index: int\n",
    "    speaker: TaskmasterSpeaker\n",
    "    text: str\n",
    "\n",
    "@attrs.define\n",
    "class Taskmaster3Convo:\n",
    "    conversation_id: str\n",
    "    vertical: str\n",
    "    scenario: str\n",
    "    instructions: str\n",
    "    utterances: tp.List[TaskmasterUtterance]"
   ]
  },
  {
   "cell_type": "code",
   "execution_count": 12,
   "id": "b3fa432e-5625-42aa-8465-dea4285a6648",
   "metadata": {},
   "outputs": [],
   "source": [
    "def try_structure_file_tm(file):\n",
    "    convos = []\n",
    "    for i, x in enumerate(file):\n",
    "        try:\n",
    "            convos.append(cattrs.structure(x, TaskmasterConvo))\n",
    "        except:\n",
    "            print(i)\n",
    "    return convos"
   ]
  },
  {
   "cell_type": "code",
   "execution_count": 13,
   "id": "7ac146bc-8b73-45bd-b33a-8315023501dd",
   "metadata": {},
   "outputs": [],
   "source": [
    "def try_structure_file_tm3(file):\n",
    "    convos = []\n",
    "    for i, x in enumerate(file):\n",
    "        try:\n",
    "            convos.append(cattrs.structure(x, Taskmaster3Convo))\n",
    "        except:\n",
    "            print(i)\n",
    "    return convos"
   ]
  },
  {
   "cell_type": "code",
   "execution_count": 19,
   "id": "c3adb273-4247-4041-9395-72e8b05f0661",
   "metadata": {},
   "outputs": [
    {
     "name": "stdout",
     "output_type": "stream",
     "text": [
      "1441\n",
      "1934\n",
      "2256\n",
      "3416\n",
      "3864\n",
      "3946\n",
      "4270\n",
      "4309\n",
      "5453\n",
      "5455\n",
      "5456\n",
      "5457\n",
      "5458\n"
     ]
    }
   ],
   "source": [
    "woz_convos = try_structure_file_tm(woz_file)"
   ]
  },
  {
   "cell_type": "code",
   "execution_count": 45,
   "id": "63e35601-8996-4aee-a799-68f2b56e4d87",
   "metadata": {},
   "outputs": [],
   "source": [
    "random.shuffle(woz_convos)"
   ]
  },
  {
   "cell_type": "code",
   "execution_count": 46,
   "id": "e20a674e-84b1-4706-8a94-5d4c0a32a9dc",
   "metadata": {},
   "outputs": [],
   "source": [
    "woz_lengths = np.array([len(convo.utterances) for convo in woz_convos]).cumsum()"
   ]
  },
  {
   "cell_type": "code",
   "execution_count": 53,
   "id": "4402c0dd-2d0f-47e2-8b2a-ee23c3536b3f",
   "metadata": {},
   "outputs": [],
   "source": [
    "woz_bisection_threshold = bisect.bisect(woz_lengths, 0.9*woz_lengths[-1])"
   ]
  },
  {
   "cell_type": "code",
   "execution_count": 57,
   "id": "f9497bb8-eed7-4a97-95d6-2be5ddbd00ba",
   "metadata": {},
   "outputs": [],
   "source": [
    "woz_train, woz_test = woz_convos[:woz_bisection_threshold], woz_convos[woz_bisection_threshold:]"
   ]
  },
  {
   "cell_type": "code",
   "execution_count": 62,
   "id": "7bb0310a-57ff-492a-b294-8d2cfb9598b4",
   "metadata": {},
   "outputs": [
    {
     "data": {
      "text/plain": [
       "4952"
      ]
     },
     "execution_count": 62,
     "metadata": {},
     "output_type": "execute_result"
    }
   ],
   "source": [
    "len(woz_train)"
   ]
  },
  {
   "cell_type": "code",
   "execution_count": 63,
   "id": "8f2d13a1-398f-4454-94d8-6f1d454e8f5f",
   "metadata": {},
   "outputs": [
    {
     "data": {
      "text/plain": [
       "542"
      ]
     },
     "execution_count": 63,
     "metadata": {},
     "output_type": "execute_result"
    }
   ],
   "source": [
    "len(woz_test)"
   ]
  },
  {
   "cell_type": "code",
   "execution_count": 64,
   "id": "e1ae2b86-58b4-4a5f-a8d1-a554251cd8b0",
   "metadata": {},
   "outputs": [
    {
     "data": {
      "text/plain": [
       "0.9013469239170003"
      ]
     },
     "execution_count": 64,
     "metadata": {},
     "output_type": "execute_result"
    }
   ],
   "source": [
    "len(woz_train)/(len(woz_train)+len(woz_test))"
   ]
  },
  {
   "cell_type": "code",
   "execution_count": 56,
   "id": "369fcc2b-a03b-435f-916c-2286c20ebc19",
   "metadata": {},
   "outputs": [
    {
     "data": {
      "text/plain": [
       "29"
      ]
     },
     "execution_count": 56,
     "metadata": {},
     "output_type": "execute_result"
    }
   ],
   "source": [
    "len(woz_convos[0].utterances)"
   ]
  },
  {
   "cell_type": "code",
   "execution_count": 59,
   "id": "eeecf81e-0ae2-45f5-bdd4-315f2079732d",
   "metadata": {
    "collapsed": true,
    "jupyter": {
     "outputs_hidden": true
    },
    "tags": []
   },
   "outputs": [
    {
     "data": {
      "text/plain": [
       "{'conversation_id': 'dlg-5720be0d-6cb4-41c5-b63e-c51ca5534704',\n",
       " 'instruction_id': 'auto-repair-1',\n",
       " 'utterances': [{'index': 0,\n",
       "   'speaker': 'ASSISTANT',\n",
       "   'text': 'Hi, how can I help you?'},\n",
       "  {'index': 1, 'speaker': 'ASSISTANT', 'text': 'Hi, how can I help you?'},\n",
       "  {'index': 2, 'speaker': 'USER', 'text': 'Hello. Come and get it.'},\n",
       "  {'index': 3, 'speaker': 'USER', 'text': 'Hello. Come and get it.'},\n",
       "  {'index': 4,\n",
       "   'speaker': 'ASSISTANT',\n",
       "   'text': 'I think you said you wanted to book an appointment?'},\n",
       "  {'index': 5,\n",
       "   'speaker': 'ASSISTANT',\n",
       "   'text': 'I think you said you wanted to book an appointment?'},\n",
       "  {'index': 6, 'speaker': 'USER', 'text': \"Yeah, that's right.\"},\n",
       "  {'index': 7, 'speaker': 'USER', 'text': \"Yeah, that's right.\"},\n",
       "  {'index': 8,\n",
       "   'speaker': 'ASSISTANT',\n",
       "   'text': 'Can you please tell me your name and number?'},\n",
       "  {'index': 9,\n",
       "   'speaker': 'ASSISTANT',\n",
       "   'text': 'Can you please tell me your name and number?'},\n",
       "  {'index': 10,\n",
       "   'speaker': 'ASSISTANT',\n",
       "   'text': \"I'm sorry I didn't hear you, theres an echo in the background.\"},\n",
       "  {'index': 11,\n",
       "   'speaker': 'ASSISTANT',\n",
       "   'text': \"I'm sorry I didn't hear you, theres an echo in the background.\"},\n",
       "  {'index': 12,\n",
       "   'speaker': 'ASSISTANT',\n",
       "   'text': \"It was 674 and I didn't hear after that.\"},\n",
       "  {'index': 13,\n",
       "   'speaker': 'ASSISTANT',\n",
       "   'text': \"It was 674 and I didn't hear after that.\"},\n",
       "  {'index': 14, 'speaker': 'ASSISTANT', 'text': 'Ok and what was your name?'},\n",
       "  {'index': 15, 'speaker': 'ASSISTANT', 'text': 'Ok and what was your name?'},\n",
       "  {'index': 16,\n",
       "   'speaker': 'USER',\n",
       "   'text': 'My name is Sainard.',\n",
       "   'segments': [{'start_index': 11,\n",
       "     'end_index': 18,\n",
       "     'text': 'Sainard',\n",
       "     'annotations': [{'name': 'auto_repair.name.customer'}]}]},\n",
       "  {'index': 17,\n",
       "   'speaker': 'USER',\n",
       "   'text': 'My name is Sainard.',\n",
       "   'segments': [{'start_index': 11,\n",
       "     'end_index': 18,\n",
       "     'text': 'Sainard',\n",
       "     'annotations': [{'name': 'auto_repair.name.customer.accept'}]}]},\n",
       "  {'index': 18,\n",
       "   'speaker': 'ASSISTANT',\n",
       "   'text': 'Did you say Leonard?',\n",
       "   'segments': [{'start_index': 12,\n",
       "     'end_index': 19,\n",
       "     'text': 'Leonard',\n",
       "     'annotations': [{'name': 'auto_repair.name.customer.reject'}]}]},\n",
       "  {'index': 19,\n",
       "   'speaker': 'ASSISTANT',\n",
       "   'text': 'Did you say Leonard?',\n",
       "   'segments': [{'start_index': 12,\n",
       "     'end_index': 19,\n",
       "     'text': 'Leonard',\n",
       "     'annotations': [{'name': 'auto_repair.name.customer.reject'}]}]},\n",
       "  {'index': 20,\n",
       "   'speaker': 'USER',\n",
       "   'text': 'No, my name is Hayana.',\n",
       "   'segments': [{'start_index': 15,\n",
       "     'end_index': 21,\n",
       "     'text': 'Hayana',\n",
       "     'annotations': [{'name': 'auto_repair.name.customer'}]}]},\n",
       "  {'index': 21,\n",
       "   'speaker': 'USER',\n",
       "   'text': 'No, my name is Hayana.',\n",
       "   'segments': [{'start_index': 15,\n",
       "     'end_index': 21,\n",
       "     'text': 'Hayana',\n",
       "     'annotations': [{'name': 'auto_repair.name.customer.accept'}]}]},\n",
       "  {'index': 22,\n",
       "   'speaker': 'ASSISTANT',\n",
       "   'text': 'Can you spell that for me slowly?'},\n",
       "  {'index': 23,\n",
       "   'speaker': 'ASSISTANT',\n",
       "   'text': 'Can you spell that for me slowly?'},\n",
       "  {'index': 24,\n",
       "   'speaker': 'ASSISTANT',\n",
       "   'text': 'Did you say Ron?',\n",
       "   'segments': [{'start_index': 12,\n",
       "     'end_index': 15,\n",
       "     'text': 'Ron',\n",
       "     'annotations': [{'name': 'auto_repair.name.customer.reject'}]}]},\n",
       "  {'index': 25,\n",
       "   'speaker': 'ASSISTANT',\n",
       "   'text': 'Did you say Ron?',\n",
       "   'segments': [{'start_index': 12,\n",
       "     'end_index': 15,\n",
       "     'text': 'Ron',\n",
       "     'annotations': [{'name': 'auto_repair.name.customer.reject'}]}]},\n",
       "  {'index': 26,\n",
       "   'speaker': 'ASSISTANT',\n",
       "   'text': 'ayyrd?',\n",
       "   'segments': [{'start_index': 0,\n",
       "     'end_index': 5,\n",
       "     'text': 'ayyrd',\n",
       "     'annotations': [{'name': 'auto_repair.name.customer'}]}]},\n",
       "  {'index': 27,\n",
       "   'speaker': 'ASSISTANT',\n",
       "   'text': 'ayyrd?',\n",
       "   'segments': [{'start_index': 0,\n",
       "     'end_index': 5,\n",
       "     'text': 'ayyrd',\n",
       "     'annotations': [{'name': 'auto_repair.name.customer.accept'}]}]},\n",
       "  {'index': 28, 'speaker': 'USER', 'text': \"Yeah, that's right.\"},\n",
       "  {'index': 29, 'speaker': 'USER', 'text': \"Yeah, that's right.\"},\n",
       "  {'index': 30, 'speaker': 'ASSISTANT', 'text': 'Ok I got it.'},\n",
       "  {'index': 31, 'speaker': 'ASSISTANT', 'text': 'Ok I got it.'},\n",
       "  {'index': 32,\n",
       "   'speaker': 'ASSISTANT',\n",
       "   'text': 'What problems are you having with your car?'},\n",
       "  {'index': 33,\n",
       "   'speaker': 'ASSISTANT',\n",
       "   'text': 'What problems are you having with your car?'},\n",
       "  {'index': 34, 'speaker': '', 'text': 'That is nice and economical.'},\n",
       "  {'index': 35, 'speaker': '', 'text': 'That is nice and economical.'},\n",
       "  {'index': 36, 'speaker': 'USER', 'text': ' That is nice and economical.'},\n",
       "  {'index': 37, 'speaker': 'USER', 'text': ' That is nice and economical.'},\n",
       "  {'index': 38,\n",
       "   'speaker': 'ASSISTANT',\n",
       "   'text': \"It doesn't start you said?\",\n",
       "   'segments': [{'start_index': 18,\n",
       "     'end_index': 24,\n",
       "     'text': 'ou sai',\n",
       "     'annotations': [{'name': 'auto_repair.reason.appt'}]}]},\n",
       "  {'index': 39,\n",
       "   'speaker': 'ASSISTANT',\n",
       "   'text': \"It doesn't start you said?\",\n",
       "   'segments': [{'start_index': 18,\n",
       "     'end_index': 24,\n",
       "     'text': 'ou sai',\n",
       "     'annotations': [{'name': 'auto_repair.reason.appt'}]}]},\n",
       "  {'index': 40,\n",
       "   'speaker': 'ASSISTANT',\n",
       "   'text': 'You said there is a dent on your car?'},\n",
       "  {'index': 41,\n",
       "   'speaker': 'ASSISTANT',\n",
       "   'text': 'You said there is a dent on your car?'},\n",
       "  {'index': 42, 'speaker': 'USER', 'text': 'That is right.'},\n",
       "  {'index': 43, 'speaker': 'USER', 'text': 'That is right.'},\n",
       "  {'index': 44,\n",
       "   'speaker': 'ASSISTANT',\n",
       "   'text': 'When would you like to schedule your appointment for?',\n",
       "   'segments': [{'start_index': 33,\n",
       "     'end_index': 44,\n",
       "     'text': 'our appoint',\n",
       "     'annotations': [{'name': 'auto_repair.date.appt'}]}]},\n",
       "  {'index': 45,\n",
       "   'speaker': 'ASSISTANT',\n",
       "   'text': 'When would you like to schedule your appointment for?',\n",
       "   'segments': [{'start_index': 33,\n",
       "     'end_index': 44,\n",
       "     'text': 'our appoint',\n",
       "     'annotations': [{'name': 'auto_repair.date.appt'}]}]},\n",
       "  {'index': 46,\n",
       "   'speaker': 'USER',\n",
       "   'text': 'I want to book my appointment at next Friday.',\n",
       "   'segments': [{'start_index': 18,\n",
       "     'end_index': 37,\n",
       "     'text': 'appointment at next',\n",
       "     'annotations': [{'name': 'auto_repair.date.appt'}]}]},\n",
       "  {'index': 47,\n",
       "   'speaker': 'USER',\n",
       "   'text': 'I want to book my appointment at next Friday.',\n",
       "   'segments': [{'start_index': 18,\n",
       "     'end_index': 37,\n",
       "     'text': 'appointment at next',\n",
       "     'annotations': [{'name': 'auto_repair.date.appt'}]}]},\n",
       "  {'index': 48,\n",
       "   'speaker': 'ASSISTANT',\n",
       "   'text': 'Ok, would that be Friday January 25th?'},\n",
       "  {'index': 49,\n",
       "   'speaker': 'ASSISTANT',\n",
       "   'text': 'Ok, would that be Friday January 25th?'},\n",
       "  {'index': 50,\n",
       "   'speaker': 'ASSISTANT',\n",
       "   'text': 'It looks like they are available, can you bring your car in at 8:30 a.m. ?'},\n",
       "  {'index': 51,\n",
       "   'speaker': 'ASSISTANT',\n",
       "   'text': 'It looks like they are available, can you bring your car in at 8:30 a.m. ?'},\n",
       "  {'index': 52,\n",
       "   'speaker': 'ASSISTANT',\n",
       "   'text': 'can you tell me the year, make, and model of your car?',\n",
       "   'segments': [{'start_index': 9,\n",
       "     'end_index': 12,\n",
       "     'text': 'ell',\n",
       "     'annotations': [{'name': 'auto_repair.year.vehicle'}]},\n",
       "    {'start_index': 14,\n",
       "     'end_index': 25,\n",
       "     'text': 'e the year,',\n",
       "     'annotations': [{'name': 'auto_repair.name.vehicle'}]}]},\n",
       "  {'index': 53,\n",
       "   'speaker': 'ASSISTANT',\n",
       "   'text': 'can you tell me the year, make, and model of your car?',\n",
       "   'segments': [{'start_index': 9,\n",
       "     'end_index': 12,\n",
       "     'text': 'ell',\n",
       "     'annotations': [{'name': 'auto_repair.year.vehicle'}]},\n",
       "    {'start_index': 14,\n",
       "     'end_index': 25,\n",
       "     'text': 'e the year,',\n",
       "     'annotations': [{'name': 'auto_repair.name.vehicle'}]}]},\n",
       "  {'index': 54, 'speaker': 'ASSISTANT', 'text': 'you said 2011 nissan rogue?'},\n",
       "  {'index': 55, 'speaker': 'ASSISTANT', 'text': 'you said 2011 nissan rogue?'},\n",
       "  {'index': 56,\n",
       "   'speaker': 'ASSISTANT',\n",
       "   'text': 'just to let you know, there is a $89 inspection fee but that can be applied to your repair',\n",
       "   'segments': [{'start_index': 40,\n",
       "     'end_index': 55,\n",
       "     'text': 'pection fee but',\n",
       "     'annotations': [{'name': 'auto_repair.time.appt'}]},\n",
       "    {'start_index': 57,\n",
       "     'end_index': 72,\n",
       "     'text': 'hat can be appl',\n",
       "     'annotations': [{'name': 'auto_repair.date.appt'}]},\n",
       "    {'start_index': 73,\n",
       "     'end_index': 90,\n",
       "     'text': 'ed to your repair',\n",
       "     'annotations': [{'name': 'auto_repair.name.store'}]}]},\n",
       "  {'index': 57,\n",
       "   'speaker': 'ASSISTANT',\n",
       "   'text': 'just to let you know, there is a $89 inspection fee but that can be applied to your repair',\n",
       "   'segments': [{'start_index': 12,\n",
       "     'end_index': 17,\n",
       "     'text': 'you k',\n",
       "     'annotations': [{'name': 'auto_repair.appointment.accept'}]},\n",
       "    {'start_index': 40,\n",
       "     'end_index': 55,\n",
       "     'text': 'pection fee but',\n",
       "     'annotations': [{'name': 'auto_repair.time.appt.accept'}]},\n",
       "    {'start_index': 57,\n",
       "     'end_index': 69,\n",
       "     'text': 'hat can be a',\n",
       "     'annotations': [{'name': 'auto_repair.date.appt.accept'}]},\n",
       "    {'start_index': 73,\n",
       "     'end_index': 90,\n",
       "     'text': 'ed to your repair',\n",
       "     'annotations': [{'name': 'auto_repair.name.store.accept'}]}]},\n",
       "  {'index': 58,\n",
       "   'speaker': 'ASSISTANT',\n",
       "   'text': 'ok, i have booked your appointement for friday at 8:30am january 25th at intelligent auto repairs for your 2011 nissan rouge that has a dent'},\n",
       "  {'index': 59,\n",
       "   'speaker': 'ASSISTANT',\n",
       "   'text': 'ok, i have booked your appointement for friday at 8:30am january 25th at intelligent auto repairs for your 2011 nissan rouge that has a dent'},\n",
       "  {'index': 60,\n",
       "   'speaker': 'ASSISTANT',\n",
       "   'text': 'ok, can i help with anything else?'},\n",
       "  {'index': 61,\n",
       "   'speaker': 'ASSISTANT',\n",
       "   'text': 'ok, can i help with anything else?'},\n",
       "  {'index': 62, 'speaker': 'ASSISTANT', 'text': 'same to you'},\n",
       "  {'index': 63, 'speaker': 'ASSISTANT', 'text': 'same to you'}]}"
      ]
     },
     "execution_count": 59,
     "metadata": {},
     "output_type": "execute_result"
    }
   ],
   "source": [
    "woz_file[1934]"
   ]
  },
  {
   "cell_type": "code",
   "execution_count": 86,
   "id": "4fd2c19b-a2d8-4286-98d3-d8109e936d41",
   "metadata": {
    "collapsed": true,
    "jupyter": {
     "outputs_hidden": true
    },
    "tags": []
   },
   "outputs": [
    {
     "data": {
      "text/plain": [
       "TaskmasterConvo(conversation_id='dlg-0018566e-5d1f-4ea2-9416-2e19da7d8a91', utterances=[TaskmasterUtterance(index=0, speaker=<TaskmasterSpeaker.ASSISTANT: 'ASSISTANT'>, text='hi there.'), TaskmasterUtterance(index=1, speaker=<TaskmasterSpeaker.USER: 'USER'>, text=\"Hi, I'd like to schedule an appointment at Intelligent Auto Repairs for a repair of my 2014 Acura RDX.\"), TaskmasterUtterance(index=2, speaker=<TaskmasterSpeaker.ASSISTANT: 'ASSISTANT'>, text='sure thing.'), TaskmasterUtterance(index=3, speaker=<TaskmasterSpeaker.ASSISTANT: 'ASSISTANT'>, text=\"let's start with some details.\"), TaskmasterUtterance(index=4, speaker=<TaskmasterSpeaker.ASSISTANT: 'ASSISTANT'>, text=\"what's your name?\"), TaskmasterUtterance(index=5, speaker=<TaskmasterSpeaker.USER: 'USER'>, text='My name is Jack Jones.'), TaskmasterUtterance(index=6, speaker=<TaskmasterSpeaker.ASSISTANT: 'ASSISTANT'>, text='hi jack.'), TaskmasterUtterance(index=7, speaker=<TaskmasterSpeaker.USER: 'USER'>, text='My phone number is 202-456-6213.'), TaskmasterUtterance(index=8, speaker=<TaskmasterSpeaker.ASSISTANT: 'ASSISTANT'>, text='ok jack, please confirm the details before we proceed?'), TaskmasterUtterance(index=9, speaker=<TaskmasterSpeaker.USER: 'USER'>, text='Go ahead.'), TaskmasterUtterance(index=10, speaker=<TaskmasterSpeaker.ASSISTANT: 'ASSISTANT'>, text='jack jones. phone number is 202-456-6213. vehicle is 2014 acura rdx.'), TaskmasterUtterance(index=11, speaker=<TaskmasterSpeaker.USER: 'USER'>, text='That is correct.'), TaskmasterUtterance(index=12, speaker=<TaskmasterSpeaker.ASSISTANT: 'ASSISTANT'>, text='cool.'), TaskmasterUtterance(index=13, speaker=<TaskmasterSpeaker.ASSISTANT: 'ASSISTANT'>, text=\"what's the reason for the appointment?\"), TaskmasterUtterance(index=14, speaker=<TaskmasterSpeaker.USER: 'USER'>, text='Whenever I get to a long traffic light, the car stalls and I have to start it again.'), TaskmasterUtterance(index=15, speaker=<TaskmasterSpeaker.ASSISTANT: 'ASSISTANT'>, text='aw sorry to hear.'), TaskmasterUtterance(index=16, speaker=<TaskmasterSpeaker.ASSISTANT: 'ASSISTANT'>, text='do you have a time and date preference.'), TaskmasterUtterance(index=17, speaker=<TaskmasterSpeaker.ASSISTANT: 'ASSISTANT'>, text='for your appointment?'), TaskmasterUtterance(index=18, speaker=<TaskmasterSpeaker.USER: 'USER'>, text='Any openings today?'), TaskmasterUtterance(index=19, speaker=<TaskmasterSpeaker.USER: 'USER'>, text='3:00 p.m.'), TaskmasterUtterance(index=20, speaker=<TaskmasterSpeaker.ASSISTANT: 'ASSISTANT'>, text='let me check for you.'), TaskmasterUtterance(index=21, speaker=<TaskmasterSpeaker.ASSISTANT: 'ASSISTANT'>, text='looks like they have a 3:30 and a 5pm.'), TaskmasterUtterance(index=22, speaker=<TaskmasterSpeaker.ASSISTANT: 'ASSISTANT'>, text='do either time work for you?'), TaskmasterUtterance(index=23, speaker=<TaskmasterSpeaker.USER: 'USER'>, text='May I get the 3:30?'), TaskmasterUtterance(index=24, speaker=<TaskmasterSpeaker.ASSISTANT: 'ASSISTANT'>, text='sure thing.'), TaskmasterUtterance(index=25, speaker=<TaskmasterSpeaker.ASSISTANT: 'ASSISTANT'>, text='today at 3:30pm it is.'), TaskmasterUtterance(index=26, speaker=<TaskmasterSpeaker.USER: 'USER'>, text='Great.'), TaskmasterUtterance(index=27, speaker=<TaskmasterSpeaker.ASSISTANT: 'ASSISTANT'>, text='so to confirm.'), TaskmasterUtterance(index=28, speaker=<TaskmasterSpeaker.ASSISTANT: 'ASSISTANT'>, text='jack jones. 202-456-6213. 2014 acura rdx, car stalls at traffic light.'), TaskmasterUtterance(index=29, speaker=<TaskmasterSpeaker.ASSISTANT: 'ASSISTANT'>, text='appointment is set to 3:30pm today.'), TaskmasterUtterance(index=30, speaker=<TaskmasterSpeaker.USER: 'USER'>, text=\"Yes, that's correct.\"), TaskmasterUtterance(index=31, speaker=<TaskmasterSpeaker.ASSISTANT: 'ASSISTANT'>, text='cool.'), TaskmasterUtterance(index=32, speaker=<TaskmasterSpeaker.ASSISTANT: 'ASSISTANT'>, text='please be on time to your appointment.'), TaskmasterUtterance(index=33, speaker=<TaskmasterSpeaker.ASSISTANT: 'ASSISTANT'>, text='and note that there is an $89 fee.'), TaskmasterUtterance(index=34, speaker=<TaskmasterSpeaker.USER: 'USER'>, text='That is fine.'), TaskmasterUtterance(index=35, speaker=<TaskmasterSpeaker.ASSISTANT: 'ASSISTANT'>, text='but that fee will go towards costs to fix the car if you choose to.'), TaskmasterUtterance(index=36, speaker=<TaskmasterSpeaker.USER: 'USER'>, text='Okay.'), TaskmasterUtterance(index=37, speaker=<TaskmasterSpeaker.ASSISTANT: 'ASSISTANT'>, text='is there anything else i can help with?'), TaskmasterUtterance(index=38, speaker=<TaskmasterSpeaker.USER: 'USER'>, text='No. Thank you so much.'), TaskmasterUtterance(index=39, speaker=<TaskmasterSpeaker.ASSISTANT: 'ASSISTANT'>, text=\"you're very welcome.\"), TaskmasterUtterance(index=40, speaker=<TaskmasterSpeaker.ASSISTANT: 'ASSISTANT'>, text='take care.')], instruction_id='auto-repair-1', instructions=None)"
      ]
     },
     "execution_count": 86,
     "metadata": {},
     "output_type": "execute_result"
    }
   ],
   "source": [
    "cattrs.structure(woz_file[3], TaskmasterConvo)"
   ]
  },
  {
   "cell_type": "code",
   "execution_count": 65,
   "id": "d0793da7-8f8d-4c5a-b33f-c9ed9ab78052",
   "metadata": {
    "collapsed": true,
    "jupyter": {
     "outputs_hidden": true
    },
    "tags": []
   },
   "outputs": [
    {
     "data": {
      "text/plain": [
       "{'conversation_id': 'dlg-00028478-84a9-4ca7-a3e2-be514a3b8c9d',\n",
       " 'instruction_id': 'movie-tickets-2',\n",
       " 'utterances': [{'index': 0,\n",
       "   'speaker': 'ASSISTANT',\n",
       "   'text': 'Hi there! How can I help?'},\n",
       "  {'index': 1,\n",
       "   'speaker': 'USER',\n",
       "   'text': \"Oh well, I've tried to go see Aquaman in Reno, Nevada.\",\n",
       "   'segments': [{'start_index': 30,\n",
       "     'end_index': 37,\n",
       "     'text': 'Aquaman',\n",
       "     'annotations': [{'name': 'movie_ticket.name.movie'}]},\n",
       "    {'start_index': 41,\n",
       "     'end_index': 54,\n",
       "     'text': 'Reno, Nevada.',\n",
       "     'annotations': [{'name': 'movie_ticket.location.theater.accept'}]}]},\n",
       "  {'index': 2,\n",
       "   'speaker': 'ASSISTANT',\n",
       "   'text': 'Okay! let me see what we got.'},\n",
       "  {'index': 3, 'speaker': 'ASSISTANT', 'text': 'I found 2 options.'},\n",
       "  {'index': 4, 'speaker': 'USER', 'text': 'Okay.'},\n",
       "  {'index': 5,\n",
       "   'speaker': 'ASSISTANT',\n",
       "   'text': 'Century Summit Sierra is the first.',\n",
       "   'segments': [{'start_index': 0,\n",
       "     'end_index': 21,\n",
       "     'text': 'Century Summit Sierra',\n",
       "     'annotations': [{'name': 'movie_ticket.name.theater'}]}]},\n",
       "  {'index': 6,\n",
       "   'speaker': 'USER',\n",
       "   'text': \"All right, I'll go with that one. When is the next showing today?\"},\n",
       "  {'index': 7,\n",
       "   'speaker': 'ASSISTANT',\n",
       "   'text': 'the next showtime is at 3:45.',\n",
       "   'segments': [{'start_index': 24,\n",
       "     'end_index': 29,\n",
       "     'text': '3:45.',\n",
       "     'annotations': [{'name': 'movie_ticket.time.start'}]}]},\n",
       "  {'index': 8,\n",
       "   'speaker': 'USER',\n",
       "   'text': 'All right, can I get three tickets for that?',\n",
       "   'segments': [{'start_index': 21,\n",
       "     'end_index': 34,\n",
       "     'text': 'three tickets',\n",
       "     'annotations': [{'name': 'movie_ticket.num.tickets'}]}]},\n",
       "  {'index': 9,\n",
       "   'speaker': 'ASSISTANT',\n",
       "   'text': 'Sure! let me get those for you!'},\n",
       "  {'index': 10, 'speaker': 'USER', 'text': 'Okay.'},\n",
       "  {'index': 11,\n",
       "   'speaker': 'ASSISTANT',\n",
       "   'text': 'The total for 3 tickets to Aquaman at 3:45 will be $28.44.',\n",
       "   'segments': [{'start_index': 14,\n",
       "     'end_index': 23,\n",
       "     'text': '3 tickets',\n",
       "     'annotations': [{'name': 'movie_ticket.num.tickets'}]},\n",
       "    {'start_index': 27,\n",
       "     'end_index': 34,\n",
       "     'text': 'Aquaman',\n",
       "     'annotations': [{'name': 'movie_ticket.name.movie.accept'}]},\n",
       "    {'start_index': 38,\n",
       "     'end_index': 42,\n",
       "     'text': '3:45',\n",
       "     'annotations': [{'name': 'movie_ticket.time.start.reject'}]},\n",
       "    {'start_index': 51,\n",
       "     'end_index': 57,\n",
       "     'text': '$28.44',\n",
       "     'annotations': [{'name': 'movie_ticket.price.ticket'}]}]},\n",
       "  {'index': 12, 'speaker': 'ASSISTANT', 'text': 'is that okay?'},\n",
       "  {'index': 13,\n",
       "   'speaker': 'USER',\n",
       "   'text': \"Yeah, that's fine. I just want to know who's starring the film.\"},\n",
       "  {'index': 14,\n",
       "   'speaker': 'ASSISTANT',\n",
       "   'text': 'Sure, Jason Momoa and Amber Heard are some of the starring actors.'},\n",
       "  {'index': 15, 'speaker': 'USER', 'text': \"Okay, that's fine.\"},\n",
       "  {'index': 16,\n",
       "   'speaker': 'ASSISTANT',\n",
       "   'text': \"anything else you'd like to know about the movie?\"},\n",
       "  {'index': 17, 'speaker': 'USER', 'text': 'No.'},\n",
       "  {'index': 18, 'speaker': 'ASSISTANT', 'text': 'okay.'},\n",
       "  {'index': 19,\n",
       "   'speaker': 'ASSISTANT',\n",
       "   'text': 'I am really sorry, but this showtime is already sold out. would you like to see if another time has available tickets?'},\n",
       "  {'index': 20,\n",
       "   'speaker': 'USER',\n",
       "   'text': 'What about another movie theater?'},\n",
       "  {'index': 21, 'speaker': 'ASSISTANT', 'text': 'let me check!'},\n",
       "  {'index': 22,\n",
       "   'speaker': 'ASSISTANT',\n",
       "   'text': 'The Century Park Lane 16 has the next show time at 3:10 or 6:40.p.m.',\n",
       "   'segments': [{'start_index': 0,\n",
       "     'end_index': 24,\n",
       "     'text': 'The Century Park Lane 16',\n",
       "     'annotations': [{'name': 'movie_ticket.name.theater.accept'}]},\n",
       "    {'start_index': 51,\n",
       "     'end_index': 55,\n",
       "     'text': '3:10',\n",
       "     'annotations': [{'name': 'movie_ticket.time.start'}]},\n",
       "    {'start_index': 59,\n",
       "     'end_index': 67,\n",
       "     'text': '6:40.p.m',\n",
       "     'annotations': [{'name': 'movie_ticket.time.start'}]}]},\n",
       "  {'index': 23,\n",
       "   'speaker': 'USER',\n",
       "   'text': 'I want the one at 3:10. Is it sold out for if I want to get three tickets?',\n",
       "   'segments': [{'start_index': 18,\n",
       "     'end_index': 22,\n",
       "     'text': '3:10',\n",
       "     'annotations': [{'name': 'movie_ticket.time.start.accept'}]}]},\n",
       "  {'index': 24,\n",
       "   'speaker': 'ASSISTANT',\n",
       "   'text': 'Let me check, for 3 tickets.',\n",
       "   'segments': [{'start_index': 18,\n",
       "     'end_index': 27,\n",
       "     'text': '3 tickets',\n",
       "     'annotations': [{'name': 'movie_ticket.num.tickets'}]}]},\n",
       "  {'index': 25,\n",
       "   'speaker': 'ASSISTANT',\n",
       "   'text': 'That seems to be available stilll, shall I book it now?'},\n",
       "  {'index': 26, 'speaker': 'USER', 'text': 'Yes.'},\n",
       "  {'index': 27, 'speaker': 'ASSISTANT', 'text': 'Okay! one moment!'},\n",
       "  {'index': 28,\n",
       "   'speaker': 'ASSISTANT',\n",
       "   'text': 'The pricing for those three will be $31.22.',\n",
       "   'segments': [{'start_index': 22,\n",
       "     'end_index': 27,\n",
       "     'text': 'three',\n",
       "     'annotations': [{'name': 'movie_ticket.num.tickets.accept'}]},\n",
       "    {'start_index': 36,\n",
       "     'end_index': 43,\n",
       "     'text': '$31.22.',\n",
       "     'annotations': [{'name': 'movie_ticket.price.ticket.accept'}]}]},\n",
       "  {'index': 29, 'speaker': 'USER', 'text': \"That's fine.\"},\n",
       "  {'index': 30,\n",
       "   'speaker': 'ASSISTANT',\n",
       "   'text': 'Okay!, your tickets have been confirmed and sent to your mobile device.'},\n",
       "  {'index': 31, 'speaker': 'USER', 'text': 'All right. Thank you.'},\n",
       "  {'index': 32, 'speaker': 'ASSISTANT', 'text': \"You're very welcome.\"},\n",
       "  {'index': 33, 'speaker': 'ASSISTANT', 'text': 'Goodbye!'}]}"
      ]
     },
     "execution_count": 65,
     "metadata": {},
     "output_type": "execute_result"
    }
   ],
   "source": [
    "woz_file[0]"
   ]
  },
  {
   "cell_type": "code",
   "execution_count": 63,
   "id": "0b985b68-60f5-4de2-a599-6c46759300f1",
   "metadata": {
    "jupyter": {
     "source_hidden": true
    },
    "tags": []
   },
   "outputs": [
    {
     "name": "stdout",
     "output_type": "stream",
     "text": [
      "0\n",
      "1\n",
      "2\n",
      "3\n",
      "4\n"
     ]
    }
   ],
   "source": [
    "for i, x in enumerate(woz_file[:5]):\n",
    "    try:\n",
    "        c = cattrs.structure(x, TaskmasterConvo)\n",
    "        if not check_alternating_speaker(c):\n",
    "            print(i)\n",
    "    except Exception as e:\n",
    "        print(\"E\", i)\n",
    "        # print(x)\n",
    "        # print(e)\n",
    "        print()"
   ]
  },
  {
   "cell_type": "code",
   "execution_count": 20,
   "id": "7dee7519-e76c-439c-a8c4-baf57648cd25",
   "metadata": {
    "tags": []
   },
   "outputs": [],
   "source": [
    "tm2_path = pathlib.Path(\"../datasets/Taskmaster/TM-2-2020\")"
   ]
  },
  {
   "cell_type": "code",
   "execution_count": 21,
   "id": "5736bd76-f9ac-4375-bd27-e58a79bb70f5",
   "metadata": {},
   "outputs": [],
   "source": [
    "tm2_convos = dict()\n",
    "for x in tm2_path.joinpath(\"data\").glob(\"*.json\"):\n",
    "    with x.open() as f:\n",
    "        tm2_convos[x.stem] = cattrs.structure(json.load(f), tp.List[TaskmasterConvo])"
   ]
  },
  {
   "cell_type": "code",
   "execution_count": 22,
   "id": "42cb0350-26d4-4d75-ba3b-00b7fb43e895",
   "metadata": {},
   "outputs": [],
   "source": [
    "tm3_path = pathlib.Path(\"../datasets/Taskmaster/TM-3-2020\")"
   ]
  },
  {
   "cell_type": "code",
   "execution_count": 5,
   "id": "3df52b8a-3807-421d-99bc-3dfc286967d1",
   "metadata": {},
   "outputs": [],
   "source": [
    "with tm3_path.joinpath(\"data/data_00.json\").open() as f:\n",
    "    tm3_dfile00 = json.load(f)"
   ]
  },
  {
   "cell_type": "code",
   "execution_count": 6,
   "id": "b543bc66-ae5d-4df1-8c2e-8f7346a17c15",
   "metadata": {
    "collapsed": true,
    "jupyter": {
     "outputs_hidden": true
    },
    "tags": []
   },
   "outputs": [
    {
     "data": {
      "text/plain": [
       "{'index': 0,\n",
       " 'speaker': 'user',\n",
       " 'text': 'hi....am buying a ticket tonight so we go and see a movie at AMC mountain 16',\n",
       " 'segments': [{'start_index': 25,\n",
       "   'end_index': 32,\n",
       "   'text': 'tonight',\n",
       "   'annotations': [{'name': 'date.showing'}]},\n",
       "  {'start_index': 61,\n",
       "   'end_index': 76,\n",
       "   'text': 'AMC mountain 16',\n",
       "   'annotations': [{'name': 'name.theater'}]}]}"
      ]
     },
     "execution_count": 6,
     "metadata": {},
     "output_type": "execute_result"
    }
   ],
   "source": [
    "tm3_dfile00[0][\"utterances\"][0]"
   ]
  },
  {
   "cell_type": "code",
   "execution_count": 11,
   "id": "de738af6-f692-4877-b05a-6a270bc3b370",
   "metadata": {
    "collapsed": true,
    "jupyter": {
     "outputs_hidden": true
    },
    "tags": []
   },
   "outputs": [
    {
     "data": {
      "text/plain": [
       "{'index': 0,\n",
       " 'speaker': 'user',\n",
       " 'text': 'hi....am buying a ticket tonight so we go and see a movie at AMC mountain 16',\n",
       " 'segments': [{'start_index': 25,\n",
       "   'end_index': 32,\n",
       "   'text': 'tonight',\n",
       "   'annotations': [{'name': 'date.showing'}]},\n",
       "  {'start_index': 61,\n",
       "   'end_index': 76,\n",
       "   'text': 'AMC mountain 16',\n",
       "   'annotations': [{'name': 'name.theater'}]}]}"
      ]
     },
     "execution_count": 11,
     "metadata": {},
     "output_type": "execute_result"
    }
   ],
   "source": [
    "tm3_dfile00[0][\"utterances\"][0]"
   ]
  },
  {
   "cell_type": "code",
   "execution_count": 24,
   "id": "06c1e909-99fe-4d3c-888a-a6fd2ff4fddf",
   "metadata": {
    "collapsed": true,
    "jupyter": {
     "outputs_hidden": true
    },
    "tags": []
   },
   "outputs": [
    {
     "data": {
      "text/plain": [
       "{'conversation_id': 'dlg-bca5ce0a-056f-446e-be94-3ba77b32a84f',\n",
       " 'vertical': 'Movie Tickets',\n",
       " 'scenario': 'Auto template 1 with theater name error',\n",
       " 'instructions': 'SCENARIO: In the conversation below, a customer is talking to a booking agent to purchase movie tickets. However, the customer’s turns are missing. The details mentioned (theater names, cities, etc.) do NOT necessarily reflect real life, but you should pretend they are real for the purposes of this exercise.\\n\\nYOUR TASK: {{LIST *Pretend you are the customer*., Fill in the *missing turns* (in green) so that the conversation makes sense and sounds natural., Make sure you *follow the instructions* provided in parentheses for each turn. (Start typing to make the instructions move outside the box.), Do not copy the wording. *Use your own words*., *Use your normal speaking style* for this scenario but don’t be overly chatty., *Do NOT* call the booking agent by any name including “sir” “madam” etc.}}\\n\\n{{HIDE movie_1 name.movie No Time To Die}}\\n{{HIDE theater_1 name.theater AMC Mountain 16}}\\n{{HIDE theater_2 name.theater AMC Mercado 24}}\\n{{HIDE genre_1 name.genre action}}\\n{{HIDE movie_1_showtime_1 time.showing 4:30pm}}\\n{{HIDE movie_1_showtime_2 time.showing 6:40pm}}\\n{{HIDE movie_1_showtime_3 time.showing 9:10pm}}\\n{{HIDE num_tickets num.tickets three}}\\n{{HIDE date date.showing tonight}}\\n{{HIDE success_closing success.closing OK. Enjoy your movie!}}\\nBEFORE YOU BEGIN: Provide a value for this detail.\\n{{ENTER people people.tickets Who’s all going to the movie? (use a phrase describing *three people* that includes reference to yourself.)}}\\n\\n{{CONVERSATION\\nhint user (In your own words, express interest in buying movie tickets for var_date and specify theater ‘var_theater_1’.)\\nforce assistant No problem. Is there a particular type of movie you’re looking for?\\nhint user (mention ‘var_genre_1’ in your response)\\nforce assistant Sure. I can help with that. Let me check listings at var_theater_2.\\nhint user (Correct the agent’s mistake: You wanted ‘var_theater_1’.)\\nforce assistant Oh, sorry about that. So you’re interested in var_genre_1 films at var_theater_1, right?\\nhint user (Confirm the agent’s correction.)\\ncall find_movies name.genre var_genre_1 name.theater var_theater_1\\nresponse find_movies name.movie var_movie_1\\ncall find_showtimes name.theater var_theater_1 date.showing var_date name.movie var_movie_1\\nresponse find_showtimes time.showing var_movie_1_showtime_1  time.showing var_movie_1_showtime_2  time.showing var_movie_1_showtime_3\\nforce assistant OK. I see one var_genre_1 movie playing at var_theater_1: var_movie_1. Remaining showtimes are var_movie_1_showtime_1, var_movie_1_showtime_2 and var_movie_1_showtime_3. Does any of those work?\\nhint user (Answer positively and choose ‘var_movie_1_showtime_3’)\\nforce assistant Great. And how many tickets?\\nhint user (Include your earlier answer of ‘var_people’ in this response.)\\nforce assistant All right. Let me confirm that you’d like var_num_tickets tickets for var_movie_1 at var_theater_1 var_date at var_movie_1_showtime_3. Is that all correct?\\nhint user (Confirm.)\\nforce assistant Is it OK to go ahead and purchase these tickets?\\nhint user (Give positive answer).\\ncall book_tickets name.movie var_movie_1 name.theater var_theater_1 time.showing var_movie_1_showtime_1 num.tickets var_num_tickets date.showing var_date\\nresponse book_tickets api.response success\\nforce assistant OK. Your tickets are purchased and details for how to proceed have been sent to your email address. Can I help with anything else?\\nhint user (polite negative answer)\\nforce assistant var_success_closing\\n}}\\n\\n{{CHECK confirm_native_speaker This conversation task was written by a native English speaker.}}\\n{{CHECK confirm_logical The conversation between the user and the assistant is cooperative and logical.}}\\n{{CHECK confirm_natural All the individual turns from the user (green boxes) sound natural and familiar.}}\\n{{CHECK confirm_casual All the individual turns from the user (green boxes) are casual but polite.}}\\n{{CHECK confirm_appropriate All the individual turns from the user (green boxes) are free of offensive or inappropriate language.}}\\n',\n",
       " 'utterances': [{'index': 0,\n",
       "   'speaker': 'user',\n",
       "   'text': 'hi....am buying a ticket tonight so we go and see a movie at AMC mountain 16',\n",
       "   'segments': [{'start_index': 25,\n",
       "     'end_index': 32,\n",
       "     'text': 'tonight',\n",
       "     'annotations': [{'name': 'date.showing'}]},\n",
       "    {'start_index': 61,\n",
       "     'end_index': 76,\n",
       "     'text': 'AMC mountain 16',\n",
       "     'annotations': [{'name': 'name.theater'}]}]},\n",
       "  {'index': 1,\n",
       "   'speaker': 'assistant',\n",
       "   'text': 'No problem. Is there a particular type of movie you’re looking for?'},\n",
       "  {'index': 2,\n",
       "   'speaker': 'user',\n",
       "   'text': 'hhhmmmmm not at all. i dont have any in mind for now'},\n",
       "  {'index': 3,\n",
       "   'speaker': 'assistant',\n",
       "   'text': 'Sure. I can help with that. Let me listings at AMC Mercado 24.',\n",
       "   'segments': [{'start_index': 48,\n",
       "     'end_index': 62,\n",
       "     'text': 'MC Mercado 24.',\n",
       "     'annotations': [{'name': 'name.theater'}]}]},\n",
       "  {'index': 4,\n",
       "   'speaker': 'user',\n",
       "   'text': 'sure you can but i want to see the movie at AMC mountain 16',\n",
       "   'segments': [{'start_index': 44,\n",
       "     'end_index': 59,\n",
       "     'text': 'AMC mountain 16',\n",
       "     'annotations': [{'name': 'name.theater'}]}]},\n",
       "  {'index': 5,\n",
       "   'speaker': 'assistant',\n",
       "   'text': 'Oh, sorry about that. So you’re interested in action films at AMC Mountain 16, right?',\n",
       "   'segments': [{'start_index': 46,\n",
       "     'end_index': 52,\n",
       "     'text': 'action',\n",
       "     'annotations': [{'name': 'name.genre'}]},\n",
       "    {'start_index': 62,\n",
       "     'end_index': 77,\n",
       "     'text': 'AMC Mountain 16',\n",
       "     'annotations': [{'name': 'name.theater'}]}]},\n",
       "  {'index': 6, 'speaker': 'user', 'text': 'yeah'},\n",
       "  {'index': 7,\n",
       "   'speaker': 'assistant',\n",
       "   'text': 'OK. I show one action movie playing at AMC Mountain 16: No Time To Die. Remaining showtimes are 4:30pm, 6:40pm and 9:10pm. Does any of those work?',\n",
       "   'segments': [{'start_index': 15,\n",
       "     'end_index': 21,\n",
       "     'text': 'action',\n",
       "     'annotations': [{'name': 'name.genre'}]},\n",
       "    {'start_index': 39,\n",
       "     'end_index': 55,\n",
       "     'text': 'AMC Mountain 16:',\n",
       "     'annotations': [{'name': 'name.theater'}]},\n",
       "    {'start_index': 56,\n",
       "     'end_index': 70,\n",
       "     'text': 'No Time To Die',\n",
       "     'annotations': [{'name': 'name.movie'}]},\n",
       "    {'start_index': 96,\n",
       "     'end_index': 102,\n",
       "     'text': '4:30pm',\n",
       "     'annotations': [{'name': 'time.showing'}]},\n",
       "    {'start_index': 104,\n",
       "     'end_index': 110,\n",
       "     'text': '6:40pm',\n",
       "     'annotations': [{'name': 'time.showing'}]},\n",
       "    {'start_index': 115,\n",
       "     'end_index': 121,\n",
       "     'text': '9:10pm',\n",
       "     'annotations': [{'name': 'time.showing'}]}]},\n",
       "  {'index': 8,\n",
       "   'speaker': 'user',\n",
       "   'text': 'yeah but 9.10pm will be perfect for me',\n",
       "   'segments': [{'start_index': 9,\n",
       "     'end_index': 15,\n",
       "     'text': '9.10pm',\n",
       "     'annotations': [{'name': 'time.showing'}]}]},\n",
       "  {'index': 9, 'speaker': 'assistant', 'text': 'Great. And how many tickets?'},\n",
       "  {'index': 10,\n",
       "   'speaker': 'user',\n",
       "   'text': 'myself and two other persons are going to see a movie'},\n",
       "  {'index': 11,\n",
       "   'speaker': 'assistant',\n",
       "   'text': 'All right. Let me confirm that you’d like three tickets for No Time To Die at AMC Mountain 16 tonight at 9:10pm. Is that all correct?',\n",
       "   'segments': [{'start_index': 42,\n",
       "     'end_index': 47,\n",
       "     'text': 'three',\n",
       "     'annotations': [{'name': 'num.tickets'}]},\n",
       "    {'start_index': 60,\n",
       "     'end_index': 74,\n",
       "     'text': 'No Time To Die',\n",
       "     'annotations': [{'name': 'name.movie'}]},\n",
       "    {'start_index': 78,\n",
       "     'end_index': 93,\n",
       "     'text': 'AMC Mountain 16',\n",
       "     'annotations': [{'name': 'name.theater'}]},\n",
       "    {'start_index': 94,\n",
       "     'end_index': 101,\n",
       "     'text': 'tonight',\n",
       "     'annotations': [{'name': 'date.showing'}]},\n",
       "    {'start_index': 105,\n",
       "     'end_index': 111,\n",
       "     'text': '9:10pm',\n",
       "     'annotations': [{'name': 'time.showing'}]}]},\n",
       "  {'index': 12, 'speaker': 'user', 'text': 'yeah'},\n",
       "  {'index': 13,\n",
       "   'speaker': 'assistant',\n",
       "   'text': 'Is it OK to go ahead and purchase these tickets?'},\n",
       "  {'index': 14, 'speaker': 'user', 'text': 'yes you can'},\n",
       "  {'index': 15,\n",
       "   'speaker': 'assistant',\n",
       "   'text': 'OK. Your tickets are purchased and details for how to proceed have been sent to your email address. Can I help with anything else?'},\n",
       "  {'index': 16,\n",
       "   'speaker': 'user',\n",
       "   'text': 'ok thanks but i dont need anything again'},\n",
       "  {'index': 17, 'speaker': 'assistant', 'text': 'OK. Enjoy your movie!'}]}"
      ]
     },
     "execution_count": 24,
     "metadata": {},
     "output_type": "execute_result"
    }
   ],
   "source": [
    "tm3_dfile00[0]"
   ]
  },
  {
   "cell_type": "code",
   "execution_count": 25,
   "id": "ae114a35-ff58-4e20-b4c7-3fc07418f94f",
   "metadata": {
    "collapsed": true,
    "jupyter": {
     "outputs_hidden": true
    },
    "tags": []
   },
   "outputs": [
    {
     "data": {
      "text/plain": [
       "Taskmaster3Convo(conversation_id='dlg-bca5ce0a-056f-446e-be94-3ba77b32a84f', vertical='Movie Tickets', scenario='Auto template 1 with theater name error', instructions='SCENARIO: In the conversation below, a customer is talking to a booking agent to purchase movie tickets. However, the customer’s turns are missing. The details mentioned (theater names, cities, etc.) do NOT necessarily reflect real life, but you should pretend they are real for the purposes of this exercise.\\n\\nYOUR TASK: {{LIST *Pretend you are the customer*., Fill in the *missing turns* (in green) so that the conversation makes sense and sounds natural., Make sure you *follow the instructions* provided in parentheses for each turn. (Start typing to make the instructions move outside the box.), Do not copy the wording. *Use your own words*., *Use your normal speaking style* for this scenario but don’t be overly chatty., *Do NOT* call the booking agent by any name including “sir” “madam” etc.}}\\n\\n{{HIDE movie_1 name.movie No Time To Die}}\\n{{HIDE theater_1 name.theater AMC Mountain 16}}\\n{{HIDE theater_2 name.theater AMC Mercado 24}}\\n{{HIDE genre_1 name.genre action}}\\n{{HIDE movie_1_showtime_1 time.showing 4:30pm}}\\n{{HIDE movie_1_showtime_2 time.showing 6:40pm}}\\n{{HIDE movie_1_showtime_3 time.showing 9:10pm}}\\n{{HIDE num_tickets num.tickets three}}\\n{{HIDE date date.showing tonight}}\\n{{HIDE success_closing success.closing OK. Enjoy your movie!}}\\nBEFORE YOU BEGIN: Provide a value for this detail.\\n{{ENTER people people.tickets Who’s all going to the movie? (use a phrase describing *three people* that includes reference to yourself.)}}\\n\\n{{CONVERSATION\\nhint user (In your own words, express interest in buying movie tickets for var_date and specify theater ‘var_theater_1’.)\\nforce assistant No problem. Is there a particular type of movie you’re looking for?\\nhint user (mention ‘var_genre_1’ in your response)\\nforce assistant Sure. I can help with that. Let me check listings at var_theater_2.\\nhint user (Correct the agent’s mistake: You wanted ‘var_theater_1’.)\\nforce assistant Oh, sorry about that. So you’re interested in var_genre_1 films at var_theater_1, right?\\nhint user (Confirm the agent’s correction.)\\ncall find_movies name.genre var_genre_1 name.theater var_theater_1\\nresponse find_movies name.movie var_movie_1\\ncall find_showtimes name.theater var_theater_1 date.showing var_date name.movie var_movie_1\\nresponse find_showtimes time.showing var_movie_1_showtime_1  time.showing var_movie_1_showtime_2  time.showing var_movie_1_showtime_3\\nforce assistant OK. I see one var_genre_1 movie playing at var_theater_1: var_movie_1. Remaining showtimes are var_movie_1_showtime_1, var_movie_1_showtime_2 and var_movie_1_showtime_3. Does any of those work?\\nhint user (Answer positively and choose ‘var_movie_1_showtime_3’)\\nforce assistant Great. And how many tickets?\\nhint user (Include your earlier answer of ‘var_people’ in this response.)\\nforce assistant All right. Let me confirm that you’d like var_num_tickets tickets for var_movie_1 at var_theater_1 var_date at var_movie_1_showtime_3. Is that all correct?\\nhint user (Confirm.)\\nforce assistant Is it OK to go ahead and purchase these tickets?\\nhint user (Give positive answer).\\ncall book_tickets name.movie var_movie_1 name.theater var_theater_1 time.showing var_movie_1_showtime_1 num.tickets var_num_tickets date.showing var_date\\nresponse book_tickets api.response success\\nforce assistant OK. Your tickets are purchased and details for how to proceed have been sent to your email address. Can I help with anything else?\\nhint user (polite negative answer)\\nforce assistant var_success_closing\\n}}\\n\\n{{CHECK confirm_native_speaker This conversation task was written by a native English speaker.}}\\n{{CHECK confirm_logical The conversation between the user and the assistant is cooperative and logical.}}\\n{{CHECK confirm_natural All the individual turns from the user (green boxes) sound natural and familiar.}}\\n{{CHECK confirm_casual All the individual turns from the user (green boxes) are casual but polite.}}\\n{{CHECK confirm_appropriate All the individual turns from the user (green boxes) are free of offensive or inappropriate language.}}\\n', utterances=[TaskmasterUtterance(index=0, speaker=<TaskmasterSpeaker.USER: 'USER'>, text='hi....am buying a ticket tonight so we go and see a movie at AMC mountain 16'), TaskmasterUtterance(index=1, speaker=<TaskmasterSpeaker.ASSISTANT: 'ASSISTANT'>, text='No problem. Is there a particular type of movie you’re looking for?'), TaskmasterUtterance(index=2, speaker=<TaskmasterSpeaker.USER: 'USER'>, text='hhhmmmmm not at all. i dont have any in mind for now'), TaskmasterUtterance(index=3, speaker=<TaskmasterSpeaker.ASSISTANT: 'ASSISTANT'>, text='Sure. I can help with that. Let me listings at AMC Mercado 24.'), TaskmasterUtterance(index=4, speaker=<TaskmasterSpeaker.USER: 'USER'>, text='sure you can but i want to see the movie at AMC mountain 16'), TaskmasterUtterance(index=5, speaker=<TaskmasterSpeaker.ASSISTANT: 'ASSISTANT'>, text='Oh, sorry about that. So you’re interested in action films at AMC Mountain 16, right?'), TaskmasterUtterance(index=6, speaker=<TaskmasterSpeaker.USER: 'USER'>, text='yeah'), TaskmasterUtterance(index=7, speaker=<TaskmasterSpeaker.ASSISTANT: 'ASSISTANT'>, text='OK. I show one action movie playing at AMC Mountain 16: No Time To Die. Remaining showtimes are 4:30pm, 6:40pm and 9:10pm. Does any of those work?'), TaskmasterUtterance(index=8, speaker=<TaskmasterSpeaker.USER: 'USER'>, text='yeah but 9.10pm will be perfect for me'), TaskmasterUtterance(index=9, speaker=<TaskmasterSpeaker.ASSISTANT: 'ASSISTANT'>, text='Great. And how many tickets?'), TaskmasterUtterance(index=10, speaker=<TaskmasterSpeaker.USER: 'USER'>, text='myself and two other persons are going to see a movie'), TaskmasterUtterance(index=11, speaker=<TaskmasterSpeaker.ASSISTANT: 'ASSISTANT'>, text='All right. Let me confirm that you’d like three tickets for No Time To Die at AMC Mountain 16 tonight at 9:10pm. Is that all correct?'), TaskmasterUtterance(index=12, speaker=<TaskmasterSpeaker.USER: 'USER'>, text='yeah'), TaskmasterUtterance(index=13, speaker=<TaskmasterSpeaker.ASSISTANT: 'ASSISTANT'>, text='Is it OK to go ahead and purchase these tickets?'), TaskmasterUtterance(index=14, speaker=<TaskmasterSpeaker.USER: 'USER'>, text='yes you can'), TaskmasterUtterance(index=15, speaker=<TaskmasterSpeaker.ASSISTANT: 'ASSISTANT'>, text='OK. Your tickets are purchased and details for how to proceed have been sent to your email address. Can I help with anything else?'), TaskmasterUtterance(index=16, speaker=<TaskmasterSpeaker.USER: 'USER'>, text='ok thanks but i dont need anything again'), TaskmasterUtterance(index=17, speaker=<TaskmasterSpeaker.ASSISTANT: 'ASSISTANT'>, text='OK. Enjoy your movie!')])"
      ]
     },
     "execution_count": 25,
     "metadata": {},
     "output_type": "execute_result"
    }
   ],
   "source": [
    "cattrs.structure(tm3_dfile00[0], Taskmaster3Convo)"
   ]
  },
  {
   "cell_type": "code",
   "execution_count": null,
   "id": "2b97413e-4399-4388-9e0d-2e07af96c931",
   "metadata": {
    "tags": []
   },
   "outputs": [],
   "source": [
    "tm3_convos = dict()\n",
    "for x in tm3_path.joinpath(\"data\").glob(\"*.json\"):\n",
    "    with x.open() as f:\n",
    "        tm3_convos[x.stem] = try_structure_file_tm3(json.load(f))"
   ]
  },
  {
   "cell_type": "code",
   "execution_count": 72,
   "id": "fe1bda89-d7ae-4c0b-a169-6f2b032f62d2",
   "metadata": {},
   "outputs": [],
   "source": [
    "def convo_to_dataset(convo):\n",
    "    convo_id = convo.conversation_id\n",
    "    utterances: tp.List[TaskmasterUtterance] = convo.utterances\n",
    "    history: str = ''\n",
    "    inputs = []\n",
    "    labels = []\n",
    "    instruction_prefixes = []\n",
    "    for utt in utterances:\n",
    "        if utt.speaker.value == \"ASSISTANT\" and not history:\n",
    "            continue\n",
    "        instr_prefix = f\"Produce the next utterance in the conversation, as said by [{utt.speaker.value}]:\\nConversation history:\"\n",
    "        if history:\n",
    "            history = f'{history}\\n[{utt.speaker.value}]'\n",
    "        else:\n",
    "            history = f'[{utt.speaker.value}]'\n",
    "        inputs.append(history)\n",
    "        labels.append(utt.text)\n",
    "        instruction_prefixes.append(instr_prefix)\n",
    "        history = f'{history} {utt.text}'\n",
    "    return datasets.Dataset.from_dict(dict(inputs=inputs, labels=labels, instruction_prefixes=instruction_prefixes))"
   ]
  },
  {
   "cell_type": "code",
   "execution_count": 67,
   "id": "d3e384c7-498a-400c-a933-1021f1094dbb",
   "metadata": {},
   "outputs": [],
   "source": [
    "def interleave_datasets_by_size(dsets: tp.Iterable[datasets.Dataset]) -> datasets.Dataset:\n",
    "    probabilities = np.array([ds.num_rows for ds in dsets], dtype=np.float64)\n",
    "    probabilities /= probabilities.sum()\n",
    "    return datasets.interleave_datasets(dsets, probabilities=probabilities)"
   ]
  },
  {
   "cell_type": "code",
   "execution_count": 92,
   "id": "baca8a16-16e1-4791-837d-117761c79aa4",
   "metadata": {},
   "outputs": [],
   "source": [
    "def format_dialogue_dataset(convos: list):\n",
    "    dsets = [convo_to_dataset(convo).shuffle() for convo in tqdm.auto.tqdm(convos)]\n",
    "    return interleave_datasets_by_size(dsets)"
   ]
  },
  {
   "cell_type": "code",
   "execution_count": 95,
   "id": "29983a67-bcf9-43d8-83d5-9701a4d09977",
   "metadata": {},
   "outputs": [
    {
     "data": {
      "application/vnd.jupyter.widget-view+json": {
       "model_id": "d47a98179def42dfb331b6cb440dba8d",
       "version_major": 2,
       "version_minor": 0
      },
      "text/plain": [
       "  0%|          | 0/4952 [00:00<?, ?it/s]"
      ]
     },
     "metadata": {},
     "output_type": "display_data"
    },
    {
     "data": {
      "application/vnd.jupyter.widget-view+json": {
       "model_id": "4864967b75524cc3a7974bfcdf905178",
       "version_major": 2,
       "version_minor": 0
      },
      "text/plain": [
       "  0%|          | 0/542 [00:00<?, ?it/s]"
      ]
     },
     "metadata": {},
     "output_type": "display_data"
    }
   ],
   "source": [
    "woz_train_ds = format_dialogue_dataset(woz_train)\n",
    "woz_test_ds = format_dialogue_dataset(woz_test)"
   ]
  },
  {
   "cell_type": "code",
   "execution_count": 97,
   "id": "4ca0f214-ae89-4197-972f-9b41b17a8d0a",
   "metadata": {},
   "outputs": [
    {
     "data": {
      "application/vnd.jupyter.widget-view+json": {
       "model_id": "4c2cbd5f89dd47fba4fd9eec3c93e6a6",
       "version_major": 2,
       "version_minor": 0
      },
      "text/plain": [
       "Flattening the indices:   0%|          | 0/4 [00:00<?, ?ba/s]"
      ]
     },
     "metadata": {},
     "output_type": "display_data"
    }
   ],
   "source": [
    "woz_train_ds.save_to_disk(\"./woz_train.dataset\")"
   ]
  },
  {
   "cell_type": "code",
   "execution_count": 98,
   "id": "5d99bb7f-1893-438f-bd97-36c1817a6b77",
   "metadata": {},
   "outputs": [
    {
     "data": {
      "text/plain": [
       "''"
      ]
     },
     "execution_count": 98,
     "metadata": {},
     "output_type": "execute_result"
    }
   ],
   "source": [
    "woz_train_ds.description"
   ]
  },
  {
   "cell_type": "code",
   "execution_count": 40,
   "id": "8fbaf799-4db2-4191-b7f7-b3717565b58a",
   "metadata": {},
   "outputs": [
    {
     "data": {
      "text/plain": [
       "'data_00'"
      ]
     },
     "execution_count": 40,
     "metadata": {},
     "output_type": "execute_result"
    }
   ],
   "source": [
    "next(iter(tm3_convos.keys()))"
   ]
  },
  {
   "cell_type": "code",
   "execution_count": 84,
   "id": "86ddfa27-f2c9-4918-85df-f2abe600c821",
   "metadata": {},
   "outputs": [
    {
     "data": {
      "text/plain": [
       "Dataset({\n",
       "    features: ['inputs', 'labels', 'instruction_prefixes'],\n",
       "    num_rows: 10752\n",
       "})"
      ]
     },
     "execution_count": 84,
     "metadata": {},
     "output_type": "execute_result"
    }
   ],
   "source": [
    "convos_to_dataset(tm3_convos['data_00'])"
   ]
  },
  {
   "cell_type": "code",
   "execution_count": 59,
   "id": "32821a2a-9cd2-4788-8153-18f19ca7fb65",
   "metadata": {},
   "outputs": [],
   "source": [
    "import collections"
   ]
  },
  {
   "cell_type": "code",
   "execution_count": 60,
   "id": "b34058ef-718b-475a-952f-a7e04d560571",
   "metadata": {},
   "outputs": [],
   "source": [
    "convo_count = collections.Counter()\n",
    "for v in tm3_convos.values():\n",
    "    for c in v:\n",
    "        convo_count[c.vertical] += 1"
   ]
  },
  {
   "cell_type": "code",
   "execution_count": 61,
   "id": "4fffb617-df9b-4cd0-8014-6a8b05328bf6",
   "metadata": {},
   "outputs": [
    {
     "data": {
      "text/plain": [
       "Counter({'Movie Tickets': 23757})"
      ]
     },
     "execution_count": 61,
     "metadata": {},
     "output_type": "execute_result"
    }
   ],
   "source": [
    "convo_count"
   ]
  },
  {
   "cell_type": "code",
   "execution_count": 82,
   "id": "481da022-8d85-4d3e-8131-7c2505bceacd",
   "metadata": {
    "tags": []
   },
   "outputs": [
    {
     "data": {
      "text/plain": [
       "18"
      ]
     },
     "execution_count": 82,
     "metadata": {},
     "output_type": "execute_result"
    }
   ],
   "source": [
    "convo_to_dataset(tm3_convos['data_00'][0])"
   ]
  },
  {
   "cell_type": "code",
   "execution_count": null,
   "id": "752197d0-e04e-4f40-92b4-0d2a45e7c795",
   "metadata": {},
   "outputs": [],
   "source": []
  },
  {
   "cell_type": "code",
   "execution_count": 56,
   "id": "6e39a00a-4ff0-4970-a01b-d311b132fd8b",
   "metadata": {},
   "outputs": [
    {
     "data": {
      "text/plain": [
       "[10, 11, 20, 12, 0, 21, 13]"
      ]
     },
     "execution_count": 56,
     "metadata": {},
     "output_type": "execute_result"
    }
   ],
   "source": [
    "seed = 42\n",
    "probabilities = np.array([0.6, 1.0, 0.4])\n",
    "probabilities /= probabilities.sum()\n",
    "d1 = datasets.Dataset.from_dict({\"a\": [0, 1, 2]})\n",
    "d2 = datasets.Dataset.from_dict({\"a\": [10, 11, 12, 13]})\n",
    "d3 = datasets.Dataset.from_dict({\"a\": [20, 21, 22]})\n",
    "dataset = datasets.interleave_datasets([d1, d2, d3], probabilities=probabilities, seed=seed)\n",
    "dataset[\"a\"]"
   ]
  },
  {
   "cell_type": "code",
   "execution_count": 92,
   "id": "9d86a73c-a0a6-4118-82e4-28e3350df304",
   "metadata": {},
   "outputs": [],
   "source": [
    "tm3_test_df = pd.read_csv(tm3_path.joinpath(\"splits/test/test.tsv\"), delimiter=\"\\t\", header=None)"
   ]
  },
  {
   "cell_type": "code",
   "execution_count": 98,
   "id": "0f180b69-e6fd-4005-b61d-52e8a2bc831c",
   "metadata": {},
   "outputs": [
    {
     "data": {
      "text/plain": [
       "0        False\n",
       "1        False\n",
       "2        False\n",
       "3        False\n",
       "4        False\n",
       "         ...  \n",
       "35184     True\n",
       "35185    False\n",
       "35186     True\n",
       "35187     True\n",
       "35188    False\n",
       "Name: 2, Length: 35189, dtype: bool"
      ]
     },
     "execution_count": 98,
     "metadata": {},
     "output_type": "execute_result"
    }
   ],
   "source": [
    "tm3_test_df[2].duplicated()"
   ]
  }
 ],
 "metadata": {
  "kernelspec": {
   "display_name": "Python 3 (ipykernel)",
   "language": "python",
   "name": "python3"
  },
  "language_info": {
   "codemirror_mode": {
    "name": "ipython",
    "version": 3
   },
   "file_extension": ".py",
   "mimetype": "text/x-python",
   "name": "python",
   "nbconvert_exporter": "python",
   "pygments_lexer": "ipython3",
   "version": "3.9.15"
  }
 },
 "nbformat": 4,
 "nbformat_minor": 5
}
